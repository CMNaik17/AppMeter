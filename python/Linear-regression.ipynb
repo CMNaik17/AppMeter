{
 "cells": [
  {
   "cell_type": "markdown",
   "metadata": {},
   "source": [
    "### Ameya on 10-April-2017 for AppMeter\n",
    "### This file has logic for Statsmodel OLS as well as sklearn LinearRegression\n",
    "### Both methods are used to predict the number of downloads"
   ]
  },
  {
   "cell_type": "code",
   "execution_count": 1,
   "metadata": {
    "collapsed": true
   },
   "outputs": [],
   "source": [
    "# print all the outputs in a cell\n",
    "from IPython.core.interactiveshell import InteractiveShell\n",
    "InteractiveShell.ast_node_interactivity = \"all\""
   ]
  },
  {
   "cell_type": "code",
   "execution_count": 2,
   "metadata": {
    "collapsed": false
   },
   "outputs": [],
   "source": [
    "# imports\n",
    "import pandas as pd\n",
    "import matplotlib.pyplot as plt\n",
    "import xlrd\n",
    "from math import log\n",
    "\n",
    "# this allows plots to appear directly in the notebook\n",
    "%matplotlib inline\n"
   ]
  },
  {
   "cell_type": "code",
   "execution_count": 3,
   "metadata": {
    "collapsed": false,
    "scrolled": false
   },
   "outputs": [
    {
     "data": {
      "text/plain": [
       "(245001, 8)"
      ]
     },
     "execution_count": 3,
     "metadata": {},
     "output_type": "execute_result"
    },
    {
     "data": {
      "text/plain": [
       "(329809, 8)"
      ]
     },
     "execution_count": 3,
     "metadata": {},
     "output_type": "execute_result"
    },
    {
     "data": {
      "text/html": [
       "<div>\n",
       "<table border=\"1\" class=\"dataframe\">\n",
       "  <thead>\n",
       "    <tr style=\"text-align: right;\">\n",
       "      <th></th>\n",
       "      <th>Unnamed: 0</th>\n",
       "      <th>Random</th>\n",
       "      <th>Name</th>\n",
       "      <th>Downloads</th>\n",
       "      <th>Size</th>\n",
       "      <th>Price</th>\n",
       "      <th>AvgR</th>\n",
       "      <th>Raters</th>\n",
       "    </tr>\n",
       "  </thead>\n",
       "  <tbody>\n",
       "    <tr>\n",
       "      <th>0</th>\n",
       "      <td>0</td>\n",
       "      <td>0.550750</td>\n",
       "      <td>Merry Christmas 2014 WPs</td>\n",
       "      <td>100</td>\n",
       "      <td>5600.0</td>\n",
       "      <td>0.10</td>\n",
       "      <td>2.50</td>\n",
       "      <td>2</td>\n",
       "    </tr>\n",
       "    <tr>\n",
       "      <th>1</th>\n",
       "      <td>1</td>\n",
       "      <td>0.690841</td>\n",
       "      <td>GuiaTDT</td>\n",
       "      <td>1000</td>\n",
       "      <td>1200.0</td>\n",
       "      <td>0.10</td>\n",
       "      <td>3.73</td>\n",
       "      <td>11</td>\n",
       "    </tr>\n",
       "    <tr>\n",
       "      <th>2</th>\n",
       "      <td>2</td>\n",
       "      <td>0.191126</td>\n",
       "      <td>???? ?????? GPS</td>\n",
       "      <td>50000</td>\n",
       "      <td>857.0</td>\n",
       "      <td>0.10</td>\n",
       "      <td>4.01</td>\n",
       "      <td>172</td>\n",
       "    </tr>\n",
       "    <tr>\n",
       "      <th>3</th>\n",
       "      <td>3</td>\n",
       "      <td>0.463945</td>\n",
       "      <td>Spritual Gifts</td>\n",
       "      <td>500</td>\n",
       "      <td>2700.0</td>\n",
       "      <td>0.10</td>\n",
       "      <td>3.58</td>\n",
       "      <td>12</td>\n",
       "    </tr>\n",
       "    <tr>\n",
       "      <th>4</th>\n",
       "      <td>4</td>\n",
       "      <td>0.121634</td>\n",
       "      <td>Space War SE</td>\n",
       "      <td>100</td>\n",
       "      <td>4200.0</td>\n",
       "      <td>0.99</td>\n",
       "      <td>3.60</td>\n",
       "      <td>5</td>\n",
       "    </tr>\n",
       "    <tr>\n",
       "      <th>5</th>\n",
       "      <td>5</td>\n",
       "      <td>0.688138</td>\n",
       "      <td>Herm�s Tie Break</td>\n",
       "      <td>5000</td>\n",
       "      <td>48000.0</td>\n",
       "      <td>0.10</td>\n",
       "      <td>4.23</td>\n",
       "      <td>163</td>\n",
       "    </tr>\n",
       "    <tr>\n",
       "      <th>6</th>\n",
       "      <td>6</td>\n",
       "      <td>0.653488</td>\n",
       "      <td>Dialer 2014 ????</td>\n",
       "      <td>500</td>\n",
       "      <td>569.0</td>\n",
       "      <td>0.10</td>\n",
       "      <td>3.50</td>\n",
       "      <td>2</td>\n",
       "    </tr>\n",
       "    <tr>\n",
       "      <th>7</th>\n",
       "      <td>7</td>\n",
       "      <td>0.424609</td>\n",
       "      <td>File Explorer for SmartWatch 2</td>\n",
       "      <td>1000</td>\n",
       "      <td>184.0</td>\n",
       "      <td>1.58</td>\n",
       "      <td>3.58</td>\n",
       "      <td>36</td>\n",
       "    </tr>\n",
       "    <tr>\n",
       "      <th>8</th>\n",
       "      <td>8</td>\n",
       "      <td>0.138247</td>\n",
       "      <td>Scary Fun + Face Recorder</td>\n",
       "      <td>10</td>\n",
       "      <td>5700.0</td>\n",
       "      <td>0.69</td>\n",
       "      <td>3.17</td>\n",
       "      <td>6</td>\n",
       "    </tr>\n",
       "    <tr>\n",
       "      <th>9</th>\n",
       "      <td>9</td>\n",
       "      <td>0.111756</td>\n",
       "      <td>ECU=SHOP Sticker</td>\n",
       "      <td>10000</td>\n",
       "      <td>17000.0</td>\n",
       "      <td>0.10</td>\n",
       "      <td>4.43</td>\n",
       "      <td>456</td>\n",
       "    </tr>\n",
       "  </tbody>\n",
       "</table>\n",
       "</div>"
      ],
      "text/plain": [
       "   Unnamed: 0    Random                            Name  Downloads     Size  \\\n",
       "0           0  0.550750        Merry Christmas 2014 WPs        100   5600.0   \n",
       "1           1  0.690841                         GuiaTDT       1000   1200.0   \n",
       "2           2  0.191126                 ???? ?????? GPS      50000    857.0   \n",
       "3           3  0.463945                  Spritual Gifts        500   2700.0   \n",
       "4           4  0.121634                    Space War SE        100   4200.0   \n",
       "5           5  0.688138                Herm�s Tie Break       5000  48000.0   \n",
       "6           6  0.653488                Dialer 2014 ????        500    569.0   \n",
       "7           7  0.424609  File Explorer for SmartWatch 2       1000    184.0   \n",
       "8           8  0.138247       Scary Fun + Face Recorder         10   5700.0   \n",
       "9           9  0.111756                ECU=SHOP Sticker      10000  17000.0   \n",
       "\n",
       "   Price  AvgR  Raters  \n",
       "0   0.10  2.50       2  \n",
       "1   0.10  3.73      11  \n",
       "2   0.10  4.01     172  \n",
       "3   0.10  3.58      12  \n",
       "4   0.99  3.60       5  \n",
       "5   0.10  4.23     163  \n",
       "6   0.10  3.50       2  \n",
       "7   1.58  3.58      36  \n",
       "8   0.69  3.17       6  \n",
       "9   0.10  4.43     456  "
      ]
     },
     "execution_count": 3,
     "metadata": {},
     "output_type": "execute_result"
    }
   ],
   "source": [
    "#data = pd.read_csv('http://www-bcf.usc.edu/~gareth/ISL/Advertising.csv', index_col=0)\n",
    "#data1 = pd.read_csv(\"union.csv\", low_memory=False)\n",
    "#data1 = pd.read_excel(\"union2.xlsx\")\n",
    "AllCleanedApps = pd.read_csv(\"CleanedApps.csv\")\n",
    "SeventyFivepercentdata = pd.read_csv(\"75percent-data.csv\")\n",
    "SeventyFivepercentdata.shape\n",
    "AllCleanedApps.shape\n",
    "\n",
    "SeventyFivepercentdataWithoutLogs = SeventyFivepercentdata.copy()\n",
    "SeventyFivepercentdata.head(10)"
   ]
  },
  {
   "cell_type": "code",
   "execution_count": 4,
   "metadata": {
    "collapsed": false
   },
   "outputs": [],
   "source": [
    "#Change the table values to log values\n",
    "import math\n",
    "def toLog(x):\n",
    "    y = x\n",
    "    if x == 0:\n",
    "        y = 0.1\n",
    "    return math.log(y)\n",
    "\n"
   ]
  },
  {
   "cell_type": "code",
   "execution_count": 5,
   "metadata": {
    "collapsed": false
   },
   "outputs": [],
   "source": [
    "AllCleanedApps[\"Downloads\"] = AllCleanedApps.Downloads.apply(toLog)\n",
    "AllCleanedApps[\"Size\"] = AllCleanedApps.Size.apply(toLog)\n",
    "#AllCleanedApps[\"Price\"] = AllCleanedApps.Price.apply(toLog)\n",
    "#AllCleanedApps[\"AvgR\"] = AllCleanedApps.AvgR.apply(toLog)\n",
    "AllCleanedApps[\"Raters\"] = AllCleanedApps.Raters.apply(toLog)"
   ]
  },
  {
   "cell_type": "code",
   "execution_count": 6,
   "metadata": {
    "collapsed": false
   },
   "outputs": [],
   "source": [
    "SeventyFivepercentdata[\"Downloads\"] = SeventyFivepercentdata.Downloads.apply(toLog)\n",
    "SeventyFivepercentdata[\"Size\"] = SeventyFivepercentdata.Size.apply(toLog)\n",
    "#SeventyFivepercentdata[\"Price\"] = SeventyFivepercentdata.Price.apply(toLog)\n",
    "#SeventyFivepercentdata[\"AvgR\"] = SeventyFivepercentdata.AvgR.apply(toLog)\n",
    "SeventyFivepercentdata[\"Raters\"] = SeventyFivepercentdata.Raters.apply(toLog)"
   ]
  },
  {
   "cell_type": "code",
   "execution_count": 291,
   "metadata": {
    "collapsed": false
   },
   "outputs": [
    {
     "name": "stdout",
     "output_type": "stream",
     "text": [
      "\n",
      "Coefficients for 75% android apps without logs\n",
      "\n"
     ]
    },
    {
     "data": {
      "text/plain": [
       "Intercept    57780.910267\n",
       "Price        -1835.580584\n",
       "AvgR         -7778.116270\n",
       "Raters          27.571452\n",
       "Size            -0.104426\n",
       "dtype: float64"
      ]
     },
     "execution_count": 291,
     "metadata": {},
     "output_type": "execute_result"
    },
    {
     "data": {
      "text/plain": [
       "statsmodels.regression.linear_model.RegressionResultsWrapper"
      ]
     },
     "execution_count": 291,
     "metadata": {},
     "output_type": "execute_result"
    },
    {
     "name": "stdout",
     "output_type": "stream",
     "text": [
      "\n",
      "Coefficients for all Cleaned android apps after taking log values\n",
      "\n"
     ]
    },
    {
     "data": {
      "text/plain": [
       "Intercept    9.962719\n",
       "AvgR        -0.697742\n",
       "dtype: float64"
      ]
     },
     "execution_count": 291,
     "metadata": {},
     "output_type": "execute_result"
    },
    {
     "name": "stdout",
     "output_type": "stream",
     "text": [
      "\n",
      "Coefficients for Cleaned 75 % android apps after taking log values\n",
      "\n"
     ]
    }
   ],
   "source": [
    "import statsmodels.formula.api as smf\n",
    "\n",
    "\n",
    "SeventyFivepercentdataWithoutLogsAnswer = smf.ols(formula='Downloads ~ Price + AvgR + Raters + Size', data=SeventyFivepercentdataWithoutLogs).fit()\n",
    "print(\"\\nCoefficients for 75% android apps without logs\\n\")\n",
    "SeventyFivepercentdataWithoutLogsAnswer.params\n",
    "\n",
    "type(SeventyFivepercentdataWithoutLogsAnswer)\n",
    "\n",
    "AllCleanedAppsAnswer = smf.ols(formula='Downloads ~ AvgR', data=AllCleanedApps).fit()\n",
    "print(\"\\nCoefficients for all Cleaned android apps after taking log values\\n\")\n",
    "AllCleanedAppsAnswer.params\n",
    "\n",
    "SeventyFivepercentdataAnswer = smf.ols(formula='Downloads ~ AvgR', data=SeventyFivepercentdata).fit()\n",
    "print(\"\\nCoefficients for Cleaned 75 % android apps after taking log values\\n\")\n",
    "#SeventyFivepercentdataAnswer.params\n",
    "\n",
    "#print(SeventyFivepercentdataWithoutLogsAnswer.summary())"
   ]
  },
  {
   "cell_type": "code",
   "execution_count": 296,
   "metadata": {
    "collapsed": false
   },
   "outputs": [
    {
     "data": {
      "text/plain": [
       "(224348L,)"
      ]
     },
     "execution_count": 296,
     "metadata": {},
     "output_type": "execute_result"
    },
    {
     "data": {
      "text/plain": [
       "(224348, 4)"
      ]
     },
     "execution_count": 296,
     "metadata": {},
     "output_type": "execute_result"
    }
   ],
   "source": [
    "AllCleanedApps= AllCleanedApps.ix[AllCleanedApps.Downloads > 5, :]\n",
    "y=AllCleanedApps['Downloads']\n",
    "X=AllCleanedApps.drop(['Downloads', 'Name','Unnamed: 0', 'Random'], axis=1)\n",
    "y.shape\n",
    "X.shape"
   ]
  },
  {
   "cell_type": "code",
   "execution_count": 280,
   "metadata": {
    "collapsed": false
   },
   "outputs": [
    {
     "data": {
      "text/plain": [
       "((157043, 4), (157043L,), (67305, 4), (67305L,))"
      ]
     },
     "execution_count": 280,
     "metadata": {},
     "output_type": "execute_result"
    },
    {
     "data": {
      "text/html": [
       "<div>\n",
       "<table border=\"1\" class=\"dataframe\">\n",
       "  <thead>\n",
       "    <tr style=\"text-align: right;\">\n",
       "      <th></th>\n",
       "      <th>Size</th>\n",
       "      <th>Price</th>\n",
       "      <th>AvgR</th>\n",
       "      <th>Raters</th>\n",
       "    </tr>\n",
       "  </thead>\n",
       "  <tbody>\n",
       "    <tr>\n",
       "      <th>238487</th>\n",
       "      <td>9.903488</td>\n",
       "      <td>0.1</td>\n",
       "      <td>4.58</td>\n",
       "      <td>4.867534</td>\n",
       "    </tr>\n",
       "    <tr>\n",
       "      <th>231177</th>\n",
       "      <td>9.546813</td>\n",
       "      <td>0.1</td>\n",
       "      <td>3.80</td>\n",
       "      <td>7.511525</td>\n",
       "    </tr>\n",
       "    <tr>\n",
       "      <th>151866</th>\n",
       "      <td>6.297109</td>\n",
       "      <td>0.1</td>\n",
       "      <td>3.38</td>\n",
       "      <td>5.147494</td>\n",
       "    </tr>\n",
       "  </tbody>\n",
       "</table>\n",
       "</div>"
      ],
      "text/plain": [
       "            Size  Price  AvgR    Raters\n",
       "238487  9.903488    0.1  4.58  4.867534\n",
       "231177  9.546813    0.1  3.80  7.511525\n",
       "151866  6.297109    0.1  3.38  5.147494"
      ]
     },
     "execution_count": 280,
     "metadata": {},
     "output_type": "execute_result"
    },
    {
     "data": {
      "text/plain": [
       "238487     8.517193\n",
       "231177    11.512925\n",
       "151866    11.512925\n",
       "Name: Downloads, dtype: float64"
      ]
     },
     "execution_count": 280,
     "metadata": {},
     "output_type": "execute_result"
    }
   ],
   "source": [
    "from sklearn.linear_model import LinearRegression\n",
    "lr= LinearRegression()\n",
    "\n",
    "from sklearn.model_selection import train_test_split\n",
    "X_tr, X_test, y_tr, y_test = train_test_split(X,y,test_size=0.3)\n",
    "\n",
    "X_tr.shape,y_tr.shape,X_test.shape, y_test.shape\n",
    "X_tr.head(3)\n",
    "y_tr.head(3)\n",
    "#y_test.sort_values(ascending=False)"
   ]
  },
  {
   "cell_type": "code",
   "execution_count": 281,
   "metadata": {
    "collapsed": false,
    "scrolled": true
   },
   "outputs": [
    {
     "data": {
      "text/plain": [
       "LinearRegression(copy_X=True, fit_intercept=True, n_jobs=1, normalize=False)"
      ]
     },
     "execution_count": 281,
     "metadata": {},
     "output_type": "execute_result"
    },
    {
     "name": "stdout",
     "output_type": "stream",
     "text": [
      "('mse:', 0.79991787183094565)\n",
      "('r2_score:', 0.80196112810535158)\n"
     ]
    },
    {
     "data": {
      "text/plain": [
       "(67305L,)"
      ]
     },
     "execution_count": 281,
     "metadata": {},
     "output_type": "execute_result"
    },
    {
     "data": {
      "text/plain": [
       "(67305L,)"
      ]
     },
     "execution_count": 281,
     "metadata": {},
     "output_type": "execute_result"
    },
    {
     "data": {
      "text/plain": [
       "260743     9.210340\n",
       "219051    13.815511\n",
       "329119     9.210340\n",
       "298842     6.907755\n",
       "110339     9.210340\n",
       "Name: Downloads, dtype: float64"
      ]
     },
     "execution_count": 281,
     "metadata": {},
     "output_type": "execute_result"
    }
   ],
   "source": [
    "lr.fit(X_tr,y_tr)\n",
    "y_pred= lr.predict(X_test)\n",
    "\n",
    "import sklearn\n",
    "from sklearn.metrics import mean_squared_error, r2_score\n",
    "print('mse:',mean_squared_error(y_test,y_pred))\n",
    "print('r2_score:',r2_score(y_test, y_pred))\n",
    "y_test.shape\n",
    "y_pred.shape\n",
    "y_test.head(5)"
   ]
  },
  {
   "cell_type": "code",
   "execution_count": null,
   "metadata": {
    "collapsed": true
   },
   "outputs": [],
   "source": [
    "from sklearn.model_selection import cross_val_score\n",
    "print(cross_val_score(LinearRegression(), X, y).mean())"
   ]
  },
  {
   "cell_type": "code",
   "execution_count": 255,
   "metadata": {
    "collapsed": false
   },
   "outputs": [
    {
     "data": {
      "text/plain": [
       "<matplotlib.figure.Figure at 0x3d5c2ef0>"
      ]
     },
     "execution_count": 255,
     "metadata": {},
     "output_type": "execute_result"
    },
    {
     "data": {
      "text/plain": [
       "6.2146080984221914"
      ]
     },
     "execution_count": 255,
     "metadata": {},
     "output_type": "execute_result"
    },
    {
     "data": {
      "text/plain": [
       "18.420680743952367"
      ]
     },
     "execution_count": 255,
     "metadata": {},
     "output_type": "execute_result"
    },
    {
     "data": {
      "text/plain": [
       "-7.210514143304378"
      ]
     },
     "execution_count": 255,
     "metadata": {},
     "output_type": "execute_result"
    },
    {
     "data": {
      "text/plain": [
       "16.720622253299602"
      ]
     },
     "execution_count": 255,
     "metadata": {},
     "output_type": "execute_result"
    },
    {
     "data": {
      "text/plain": [
       "<matplotlib.collections.PathCollection at 0x3dd16400>"
      ]
     },
     "execution_count": 255,
     "metadata": {},
     "output_type": "execute_result"
    },
    {
     "data": {
      "text/plain": [
       "<matplotlib.text.Text at 0x40d7f8d0>"
      ]
     },
     "execution_count": 255,
     "metadata": {},
     "output_type": "execute_result"
    },
    {
     "data": {
      "text/plain": [
       "<matplotlib.text.Text at 0x3d5b9710>"
      ]
     },
     "execution_count": 255,
     "metadata": {},
     "output_type": "execute_result"
    },
    {
     "data": {
      "text/plain": [
       "<matplotlib.text.Text at 0x25d18630>"
      ]
     },
     "execution_count": 255,
     "metadata": {},
     "output_type": "execute_result"
    },
    {
     "data": {
      "text/plain": [
       "[<matplotlib.lines.Line2D at 0x3dd16c50>]"
      ]
     },
     "execution_count": 255,
     "metadata": {},
     "output_type": "execute_result"
    },
    {
     "data": {
      "image/png": "[encoded data removed]",
      "text/plain": [
       "<matplotlib.figure.Figure at 0x3d5c2ef0>"
      ]
     },
     "metadata": {},
     "output_type": "display_data"
    }
   ],
   "source": [
    "import matplotlib.pylab as plt\n",
    "% matplotlib inline\n",
    "plt.figure(figsize=(15, 10))\n",
    "min(y_test)\n",
    "max(y_test)\n",
    "min(y_pred)\n",
    "max(y_pred)\n",
    "#y_test = np.linspace(0, y_test.max, 50)\n",
    "plt.scatter(y_test, y_pred)\n",
    "plt.title('Predicted vs. Actual')\n",
    "plt.xlabel('Actual Downloads')\n",
    "plt.ylabel('Predicted Downloads')\n",
    "\n",
    "plt.plot([min(y_test), max(y_test)], [min(y_test), max(y_test)])\n",
    "#plt.tight_layout()"
   ]
  }
 ],
 "metadata": {
  "kernelspec": {
   "display_name": "Python 2",
   "language": "python",
   "name": "python2"
  },
  "language_info": {
   "codemirror_mode": {
    "name": "ipython",
    "version": 2
   },
   "file_extension": ".py",
   "mimetype": "text/x-python",
   "name": "python",
   "nbconvert_exporter": "python",
   "pygments_lexer": "ipython2",
   "version": "2.7.11"
  }
 },
 "nbformat": 4,
 "nbformat_minor": 0
}
