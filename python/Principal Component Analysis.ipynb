{
 "cells": [
  {
   "cell_type": "code",
   "execution_count": 1,
   "metadata": {
    "collapsed": true
   },
   "outputs": [],
   "source": [
    "# print all the outputs in a cell\n",
    "from IPython.core.interactiveshell import InteractiveShell\n",
    "InteractiveShell.ast_node_interactivity = \"all\""
   ]
  },
  {
   "cell_type": "code",
   "execution_count": 2,
   "metadata": {
    "collapsed": true
   },
   "outputs": [],
   "source": [
    "import pandas as pd\n",
    "import matplotlib.pyplot as plt\n",
    "import plotly.plotly as py\n",
    "import numpy as np"
   ]
  },
  {
   "cell_type": "code",
   "execution_count": 3,
   "metadata": {
    "collapsed": true
   },
   "outputs": [],
   "source": [
    "from sklearn.decomposition import PCA"
   ]
  },
  {
   "cell_type": "code",
   "execution_count": 4,
   "metadata": {
    "collapsed": true
   },
   "outputs": [],
   "source": [
    "df = pd.read_csv(\"clean_android_genre.csv\")"
   ]
  },
  {
   "cell_type": "code",
   "execution_count": 5,
   "metadata": {
    "collapsed": false
   },
   "outputs": [
    {
     "data": {
      "text/plain": [
       "Index([u'age', u'all_rating', u'all_rating_count', u'app_name', u'bundle_id',\n",
       "       u'date', u'downloads', u'epoch_date', u'file_size', u'genre',\n",
       "       u'icon_url', u'mod_genre', u'price'],\n",
       "      dtype='object')"
      ]
     },
     "execution_count": 5,
     "metadata": {},
     "output_type": "execute_result"
    }
   ],
   "source": [
    "df.columns"
   ]
  },
  {
   "cell_type": "code",
   "execution_count": 6,
   "metadata": {
    "collapsed": false
   },
   "outputs": [
    {
     "data": {
      "text/plain": [
       "(476598, 13)"
      ]
     },
     "execution_count": 6,
     "metadata": {},
     "output_type": "execute_result"
    }
   ],
   "source": [
    "df.shape"
   ]
  },
  {
   "cell_type": "code",
   "execution_count": 7,
   "metadata": {
    "collapsed": true
   },
   "outputs": [],
   "source": [
    "import math\n",
    "def toLog(x):\n",
    "    y = x\n",
    "    if x == 0:\n",
    "        y = 0.1\n",
    "    return math.log(y)"
   ]
  },
  {
   "cell_type": "code",
   "execution_count": 8,
   "metadata": {
    "collapsed": true
   },
   "outputs": [],
   "source": [
    "df1=df.copy()"
   ]
  },
  {
   "cell_type": "code",
   "execution_count": 9,
   "metadata": {
    "collapsed": true
   },
   "outputs": [],
   "source": [
    "df1[\"Downloads\"] = df1.downloads.apply(toLog)\n",
    "df1[\"Size\"] = df1.file_size.apply(toLog)\n",
    "df1[\"Price\"] = df1.price.apply(toLog)\n",
    "df1[\"AvgR\"] = df1.all_rating.apply(toLog)\n",
    "df1[\"Raters\"] = df1.all_rating_count.apply(toLog)"
   ]
  },
  {
   "cell_type": "code",
   "execution_count": 11,
   "metadata": {
    "collapsed": true
   },
   "outputs": [],
   "source": [
    "df1[\"age_yr\"]=df1[\"age\"]/365"
   ]
  },
  {
   "cell_type": "code",
   "execution_count": 12,
   "metadata": {
    "collapsed": false
   },
   "outputs": [
    {
     "data": {
      "text/html": [
       "<div>\n",
       "<table border=\"1\" class=\"dataframe\">\n",
       "  <thead>\n",
       "    <tr style=\"text-align: right;\">\n",
       "      <th></th>\n",
       "      <th>age</th>\n",
       "      <th>all_rating</th>\n",
       "      <th>all_rating_count</th>\n",
       "      <th>app_name</th>\n",
       "      <th>bundle_id</th>\n",
       "      <th>date</th>\n",
       "      <th>downloads</th>\n",
       "      <th>epoch_date</th>\n",
       "      <th>file_size</th>\n",
       "      <th>genre</th>\n",
       "      <th>icon_url</th>\n",
       "      <th>mod_genre</th>\n",
       "      <th>price</th>\n",
       "      <th>Downloads</th>\n",
       "      <th>Size</th>\n",
       "      <th>Price</th>\n",
       "      <th>AvgR</th>\n",
       "      <th>Raters</th>\n",
       "      <th>age_yr</th>\n",
       "    </tr>\n",
       "  </thead>\n",
       "  <tbody>\n",
       "    <tr>\n",
       "      <th>0</th>\n",
       "      <td>345</td>\n",
       "      <td>5.0</td>\n",
       "      <td>2</td>\n",
       "      <td>! Insta-Face</td>\n",
       "      <td>bytesinarow.instaface</td>\n",
       "      <td>2012-07-21</td>\n",
       "      <td>750</td>\n",
       "      <td>1342828800</td>\n",
       "      <td>0.364</td>\n",
       "      <td>Social</td>\n",
       "      <td>https://lh6.ggpht.com/tLAk2kdsvWf22tEdsFHrN-Kv...</td>\n",
       "      <td>Social Networking</td>\n",
       "      <td>0.0</td>\n",
       "      <td>6.620073</td>\n",
       "      <td>-1.010601</td>\n",
       "      <td>-2.302585</td>\n",
       "      <td>1.609438</td>\n",
       "      <td>0.693147</td>\n",
       "      <td>0.945205</td>\n",
       "    </tr>\n",
       "    <tr>\n",
       "      <th>1</th>\n",
       "      <td>340</td>\n",
       "      <td>4.2</td>\n",
       "      <td>58</td>\n",
       "      <td>Cats and Dogs Sounds</td>\n",
       "      <td>com.juicyapplications.catsanddogssounds</td>\n",
       "      <td>2012-07-26</td>\n",
       "      <td>30000</td>\n",
       "      <td>1343260800</td>\n",
       "      <td>3.300</td>\n",
       "      <td>Entertainment</td>\n",
       "      <td>https://lh3.ggpht.com/Inhxv4Ei2aQpVfBqYwuIeYEF...</td>\n",
       "      <td>Entertainment</td>\n",
       "      <td>0.0</td>\n",
       "      <td>10.308953</td>\n",
       "      <td>1.193922</td>\n",
       "      <td>-2.302585</td>\n",
       "      <td>1.435085</td>\n",
       "      <td>4.060443</td>\n",
       "      <td>0.931507</td>\n",
       "    </tr>\n",
       "    <tr>\n",
       "      <th>2</th>\n",
       "      <td>531</td>\n",
       "      <td>3.9</td>\n",
       "      <td>535</td>\n",
       "      <td>Ceneo</td>\n",
       "      <td>pl.ceneo</td>\n",
       "      <td>2012-01-17</td>\n",
       "      <td>300000</td>\n",
       "      <td>1326758400</td>\n",
       "      <td>0.693</td>\n",
       "      <td>Shopping</td>\n",
       "      <td>https://lh6.ggpht.com/uWe2mtTPzQkPGJF7zvmR-iRU...</td>\n",
       "      <td>Shopping</td>\n",
       "      <td>0.0</td>\n",
       "      <td>12.611538</td>\n",
       "      <td>-0.366725</td>\n",
       "      <td>-2.302585</td>\n",
       "      <td>1.360977</td>\n",
       "      <td>6.282267</td>\n",
       "      <td>1.454795</td>\n",
       "    </tr>\n",
       "    <tr>\n",
       "      <th>3</th>\n",
       "      <td>503</td>\n",
       "      <td>4.0</td>\n",
       "      <td>66</td>\n",
       "      <td>Christmas Trivia</td>\n",
       "      <td>com.alaskajim.christmas</td>\n",
       "      <td>2012-02-14</td>\n",
       "      <td>75000</td>\n",
       "      <td>1329177600</td>\n",
       "      <td>2.600</td>\n",
       "      <td>Brain &amp; Puzzle</td>\n",
       "      <td>https://lh5.ggpht.com/IannWJ66OYxzQrh0TjDBbcqz...</td>\n",
       "      <td>Games</td>\n",
       "      <td>0.0</td>\n",
       "      <td>11.225243</td>\n",
       "      <td>0.955511</td>\n",
       "      <td>-2.302585</td>\n",
       "      <td>1.386294</td>\n",
       "      <td>4.189655</td>\n",
       "      <td>1.378082</td>\n",
       "    </tr>\n",
       "    <tr>\n",
       "      <th>4</th>\n",
       "      <td>315</td>\n",
       "      <td>4.3</td>\n",
       "      <td>6</td>\n",
       "      <td>Abstract Live Wallpaper HD</td>\n",
       "      <td>com.redgirl.abstracts</td>\n",
       "      <td>2012-08-20</td>\n",
       "      <td>300</td>\n",
       "      <td>1345420800</td>\n",
       "      <td>2.600</td>\n",
       "      <td>Media &amp; Video</td>\n",
       "      <td>https://lh6.ggpht.com/P-A5UG84v8SVElolXiZafitv...</td>\n",
       "      <td>Photo &amp; Video</td>\n",
       "      <td>0.0</td>\n",
       "      <td>5.703782</td>\n",
       "      <td>0.955511</td>\n",
       "      <td>-2.302585</td>\n",
       "      <td>1.458615</td>\n",
       "      <td>1.791759</td>\n",
       "      <td>0.863014</td>\n",
       "    </tr>\n",
       "    <tr>\n",
       "      <th>5</th>\n",
       "      <td>215</td>\n",
       "      <td>3.9</td>\n",
       "      <td>7</td>\n",
       "      <td>Abstract Live Wallpaper LWP</td>\n",
       "      <td>com.abstractlivewallpaper.lwp</td>\n",
       "      <td>2012-11-28</td>\n",
       "      <td>3000</td>\n",
       "      <td>1354060800</td>\n",
       "      <td>1.500</td>\n",
       "      <td>Personalization</td>\n",
       "      <td>https://lh5.ggpht.com/N_hORKLNn502toOANoyZzc-H...</td>\n",
       "      <td>Entertainment</td>\n",
       "      <td>0.0</td>\n",
       "      <td>8.006368</td>\n",
       "      <td>0.405465</td>\n",
       "      <td>-2.302585</td>\n",
       "      <td>1.360977</td>\n",
       "      <td>1.945910</td>\n",
       "      <td>0.589041</td>\n",
       "    </tr>\n",
       "    <tr>\n",
       "      <th>6</th>\n",
       "      <td>454</td>\n",
       "      <td>4.2</td>\n",
       "      <td>5</td>\n",
       "      <td>#DAILYROCK</td>\n",
       "      <td>com.wDailyRock</td>\n",
       "      <td>2012-04-03</td>\n",
       "      <td>300</td>\n",
       "      <td>1333411200</td>\n",
       "      <td>0.101</td>\n",
       "      <td>Education</td>\n",
       "      <td>https://lh3.ggpht.com/R1_elehi1wZQf4x00TAUQxHZ...</td>\n",
       "      <td>Education</td>\n",
       "      <td>0.0</td>\n",
       "      <td>5.703782</td>\n",
       "      <td>-2.292635</td>\n",
       "      <td>-2.302585</td>\n",
       "      <td>1.435085</td>\n",
       "      <td>1.609438</td>\n",
       "      <td>1.243836</td>\n",
       "    </tr>\n",
       "    <tr>\n",
       "      <th>7</th>\n",
       "      <td>668</td>\n",
       "      <td>4.2</td>\n",
       "      <td>114</td>\n",
       "      <td>Abstract Live Wallpaper Pack</td>\n",
       "      <td>cz.kinst.jakub.alwp</td>\n",
       "      <td>2011-09-02</td>\n",
       "      <td>30000</td>\n",
       "      <td>1314921600</td>\n",
       "      <td>0.355</td>\n",
       "      <td>Personalization</td>\n",
       "      <td>https://lh4.ggpht.com/OoRAHuE0Xx7nI71ZZOpoEtt7...</td>\n",
       "      <td>Entertainment</td>\n",
       "      <td>0.0</td>\n",
       "      <td>10.308953</td>\n",
       "      <td>-1.035637</td>\n",
       "      <td>-2.302585</td>\n",
       "      <td>1.435085</td>\n",
       "      <td>4.736198</td>\n",
       "      <td>1.830137</td>\n",
       "    </tr>\n",
       "    <tr>\n",
       "      <th>8</th>\n",
       "      <td>290</td>\n",
       "      <td>4.6</td>\n",
       "      <td>19</td>\n",
       "      <td>Abstract Love Locker</td>\n",
       "      <td>com.lockerscreenexpert.abstractlovelocker</td>\n",
       "      <td>2012-09-14</td>\n",
       "      <td>3000</td>\n",
       "      <td>1347580800</td>\n",
       "      <td>2.200</td>\n",
       "      <td>Personalization</td>\n",
       "      <td>https://lh4.ggpht.com/JVLqfPZHmeHHUYtZIjzHbIPB...</td>\n",
       "      <td>Entertainment</td>\n",
       "      <td>0.0</td>\n",
       "      <td>8.006368</td>\n",
       "      <td>0.788457</td>\n",
       "      <td>-2.302585</td>\n",
       "      <td>1.526056</td>\n",
       "      <td>2.944439</td>\n",
       "      <td>0.794521</td>\n",
       "    </tr>\n",
       "    <tr>\n",
       "      <th>9</th>\n",
       "      <td>540</td>\n",
       "      <td>2.0</td>\n",
       "      <td>1</td>\n",
       "      <td>Abstract Mega Live Wallpaper</td>\n",
       "      <td>com.abstractmegalivewallpaper.stardroid</td>\n",
       "      <td>2012-01-08</td>\n",
       "      <td>300</td>\n",
       "      <td>1325980800</td>\n",
       "      <td>3.700</td>\n",
       "      <td>Social</td>\n",
       "      <td>https://lh5.ggpht.com/haptDojw_VPAtHnQ5Q7seRu8...</td>\n",
       "      <td>Social Networking</td>\n",
       "      <td>0.0</td>\n",
       "      <td>5.703782</td>\n",
       "      <td>1.308333</td>\n",
       "      <td>-2.302585</td>\n",
       "      <td>0.693147</td>\n",
       "      <td>0.000000</td>\n",
       "      <td>1.479452</td>\n",
       "    </tr>\n",
       "  </tbody>\n",
       "</table>\n",
       "</div>"
      ],
      "text/plain": [
       "   age  all_rating  all_rating_count                      app_name  \\\n",
       "0  345         5.0                 2                  ! Insta-Face   \n",
       "1  340         4.2                58          Cats and Dogs Sounds   \n",
       "2  531         3.9               535                         Ceneo   \n",
       "3  503         4.0                66              Christmas Trivia   \n",
       "4  315         4.3                 6    Abstract Live Wallpaper HD   \n",
       "5  215         3.9                 7   Abstract Live Wallpaper LWP   \n",
       "6  454         4.2                 5                    #DAILYROCK   \n",
       "7  668         4.2               114  Abstract Live Wallpaper Pack   \n",
       "8  290         4.6                19          Abstract Love Locker   \n",
       "9  540         2.0                 1  Abstract Mega Live Wallpaper   \n",
       "\n",
       "                                   bundle_id        date  downloads  \\\n",
       "0                      bytesinarow.instaface  2012-07-21        750   \n",
       "1    com.juicyapplications.catsanddogssounds  2012-07-26      30000   \n",
       "2                                   pl.ceneo  2012-01-17     300000   \n",
       "3                    com.alaskajim.christmas  2012-02-14      75000   \n",
       "4                      com.redgirl.abstracts  2012-08-20        300   \n",
       "5              com.abstractlivewallpaper.lwp  2012-11-28       3000   \n",
       "6                             com.wDailyRock  2012-04-03        300   \n",
       "7                        cz.kinst.jakub.alwp  2011-09-02      30000   \n",
       "8  com.lockerscreenexpert.abstractlovelocker  2012-09-14       3000   \n",
       "9    com.abstractmegalivewallpaper.stardroid  2012-01-08        300   \n",
       "\n",
       "   epoch_date  file_size            genre  \\\n",
       "0  1342828800      0.364           Social   \n",
       "1  1343260800      3.300    Entertainment   \n",
       "2  1326758400      0.693         Shopping   \n",
       "3  1329177600      2.600   Brain & Puzzle   \n",
       "4  1345420800      2.600    Media & Video   \n",
       "5  1354060800      1.500  Personalization   \n",
       "6  1333411200      0.101        Education   \n",
       "7  1314921600      0.355  Personalization   \n",
       "8  1347580800      2.200  Personalization   \n",
       "9  1325980800      3.700           Social   \n",
       "\n",
       "                                            icon_url          mod_genre  \\\n",
       "0  https://lh6.ggpht.com/tLAk2kdsvWf22tEdsFHrN-Kv...  Social Networking   \n",
       "1  https://lh3.ggpht.com/Inhxv4Ei2aQpVfBqYwuIeYEF...      Entertainment   \n",
       "2  https://lh6.ggpht.com/uWe2mtTPzQkPGJF7zvmR-iRU...           Shopping   \n",
       "3  https://lh5.ggpht.com/IannWJ66OYxzQrh0TjDBbcqz...              Games   \n",
       "4  https://lh6.ggpht.com/P-A5UG84v8SVElolXiZafitv...      Photo & Video   \n",
       "5  https://lh5.ggpht.com/N_hORKLNn502toOANoyZzc-H...      Entertainment   \n",
       "6  https://lh3.ggpht.com/R1_elehi1wZQf4x00TAUQxHZ...          Education   \n",
       "7  https://lh4.ggpht.com/OoRAHuE0Xx7nI71ZZOpoEtt7...      Entertainment   \n",
       "8  https://lh4.ggpht.com/JVLqfPZHmeHHUYtZIjzHbIPB...      Entertainment   \n",
       "9  https://lh5.ggpht.com/haptDojw_VPAtHnQ5Q7seRu8...  Social Networking   \n",
       "\n",
       "   price  Downloads      Size     Price      AvgR    Raters    age_yr  \n",
       "0    0.0   6.620073 -1.010601 -2.302585  1.609438  0.693147  0.945205  \n",
       "1    0.0  10.308953  1.193922 -2.302585  1.435085  4.060443  0.931507  \n",
       "2    0.0  12.611538 -0.366725 -2.302585  1.360977  6.282267  1.454795  \n",
       "3    0.0  11.225243  0.955511 -2.302585  1.386294  4.189655  1.378082  \n",
       "4    0.0   5.703782  0.955511 -2.302585  1.458615  1.791759  0.863014  \n",
       "5    0.0   8.006368  0.405465 -2.302585  1.360977  1.945910  0.589041  \n",
       "6    0.0   5.703782 -2.292635 -2.302585  1.435085  1.609438  1.243836  \n",
       "7    0.0  10.308953 -1.035637 -2.302585  1.435085  4.736198  1.830137  \n",
       "8    0.0   8.006368  0.788457 -2.302585  1.526056  2.944439  0.794521  \n",
       "9    0.0   5.703782  1.308333 -2.302585  0.693147  0.000000  1.479452  "
      ]
     },
     "execution_count": 12,
     "metadata": {},
     "output_type": "execute_result"
    }
   ],
   "source": [
    "df1.head(10)"
   ]
  },
  {
   "cell_type": "code",
   "execution_count": 14,
   "metadata": {
    "collapsed": true
   },
   "outputs": [],
   "source": [
    "df1=df1[[\"downloads\",\"file_size\",\"all_rating_count\",\"age_yr\",\"price\",\"all_rating\"]]"
   ]
  },
  {
   "cell_type": "code",
   "execution_count": 15,
   "metadata": {
    "collapsed": true
   },
   "outputs": [],
   "source": [
    "from sklearn.preprocessing import StandardScaler\n",
    "X_std = StandardScaler().fit_transform(df1)"
   ]
  },
  {
   "cell_type": "code",
   "execution_count": 24,
   "metadata": {
    "collapsed": false
   },
   "outputs": [],
   "source": [
    "pca = PCA(n_components=1, whiten=False).fit(X_std)"
   ]
  },
  {
   "cell_type": "code",
   "execution_count": 25,
   "metadata": {
    "collapsed": false
   },
   "outputs": [
    {
     "name": "stdout",
     "output_type": "stream",
     "text": [
      "[[ 0.70538875  0.04858834  0.70628545 -0.0147345  -0.01217627  0.02934928]]\n"
     ]
    }
   ],
   "source": [
    "print pca.components_"
   ]
  },
  {
   "cell_type": "code",
   "execution_count": 26,
   "metadata": {
    "collapsed": false
   },
   "outputs": [
    {
     "name": "stdout",
     "output_type": "stream",
     "text": [
      "[ 0.2687593]\n",
      "0.268759301809\n"
     ]
    }
   ],
   "source": [
    "print pca.explained_variance_ratio_\n",
    "print sum(pca.explained_variance_ratio_)"
   ]
  },
  {
   "cell_type": "code",
   "execution_count": 27,
   "metadata": {
    "collapsed": false
   },
   "outputs": [
    {
     "data": {
      "text/plain": [
       "array([[ 0.89574813],\n",
       "       [ 0.06170061],\n",
       "       [ 0.89688681],\n",
       "       [-0.01871082],\n",
       "       [-0.01546221],\n",
       "       [ 0.03726961]])"
      ]
     },
     "execution_count": 27,
     "metadata": {},
     "output_type": "execute_result"
    }
   ],
   "source": [
    "pca.components_.T * math.sqrt(pca.explained_variance_)"
   ]
  },
  {
   "cell_type": "code",
   "execution_count": 29,
   "metadata": {
    "collapsed": false
   },
   "outputs": [
    {
     "data": {
      "text/plain": [
       "Index([u'downloads', u'file_size', u'all_rating_count', u'age_yr', u'price',\n",
       "       u'all_rating'],\n",
       "      dtype='object')"
      ]
     },
     "execution_count": 29,
     "metadata": {},
     "output_type": "execute_result"
    }
   ],
   "source": [
    "df1.columns\n"
   ]
  },
  {
   "cell_type": "code",
   "execution_count": null,
   "metadata": {
    "collapsed": true
   },
   "outputs": [],
   "source": [
    "import math\n",
    "for eigen_values in eig_vals:\n",
    "    for i in eig_vecs:\n",
    "        for j in i:\n",
    "              load=j*math.sqrt(eigen_values)\n",
    "              print(j, \"* squareroot\",  eigen_values)\n",
    "              print(load)\n",
    "        break;\n",
    "    print (\"\\n Next eigen values\")\n",
    "    \n",
    "        \n",
    "    \n"
   ]
  }
 ],
 "metadata": {
  "kernelspec": {
   "display_name": "Python 2",
   "language": "python",
   "name": "python2"
  },
  "language_info": {
   "codemirror_mode": {
    "name": "ipython",
    "version": 2
   },
   "file_extension": ".py",
   "mimetype": "text/x-python",
   "name": "python",
   "nbconvert_exporter": "python",
   "pygments_lexer": "ipython2",
   "version": "2.7.11"
  }
 },
 "nbformat": 4,
 "nbformat_minor": 0
}
