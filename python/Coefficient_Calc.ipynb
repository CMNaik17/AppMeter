{
 "cells": [
  {
   "cell_type": "markdown",
   "metadata": {},
   "source": [
    "## Use this notebook just to calculate the coefficient using Linear Regression"
   ]
  },
  {
   "cell_type": "code",
   "execution_count": 2,
   "metadata": {
    "collapsed": false
   },
   "outputs": [
    {
     "name": "stdout",
     "output_type": "stream",
     "text": [
      "Populating the interactive namespace from numpy and matplotlib\n"
     ]
    }
   ],
   "source": [
    "import pandas as pd\n",
    "import numpy as np\n",
    "import seaborn as sns\n",
    "%pylab inline\n",
    "\n",
    "import sklearn as sklearn"
   ]
  },
  {
   "cell_type": "code",
   "execution_count": 3,
   "metadata": {
    "collapsed": false
   },
   "outputs": [],
   "source": [
    "df = pd.read_csv(\"clean_android_genre.csv\")"
   ]
  },
  {
   "cell_type": "code",
   "execution_count": 4,
   "metadata": {
    "collapsed": true
   },
   "outputs": [],
   "source": [
    "#Change the table values to log values\n",
    "import math\n",
    "def toLog(x):\n",
    "    y = x\n",
    "    if x == 0:\n",
    "        y = 0.1\n",
    "    return math.log(y)"
   ]
  },
  {
   "cell_type": "code",
   "execution_count": 5,
   "metadata": {
    "collapsed": true
   },
   "outputs": [],
   "source": [
    "df[\"Downloads\"] = df.downloads.apply(toLog)\n",
    "df[\"Age\"] = df.age.apply(toLog)\n",
    "df[\"Raters\"] = df.all_rating_count.apply(toLog)\n",
    "df[\"Price\"] = df.price.apply(toLog)\n",
    "df[\"FileSize\"] = df.file_size.apply(toLog)"
   ]
  },
  {
   "cell_type": "code",
   "execution_count": 6,
   "metadata": {
    "collapsed": false
   },
   "outputs": [
    {
     "data": {
      "text/plain": [
       "0"
      ]
     },
     "execution_count": 6,
     "metadata": {},
     "output_type": "execute_result"
    }
   ],
   "source": [
    "# make sure there is no app which have no raters. Removing outliers\n",
    "len(df[df.all_rating_count==0])"
   ]
  },
  {
   "cell_type": "code",
   "execution_count": 9,
   "metadata": {
    "collapsed": false
   },
   "outputs": [
    {
     "data": {
      "text/plain": [
       "390551"
      ]
     },
     "execution_count": 9,
     "metadata": {},
     "output_type": "execute_result"
    }
   ],
   "source": [
    "# Free Apps\n",
    "len(df[df.price==0])"
   ]
  },
  {
   "cell_type": "code",
   "execution_count": 8,
   "metadata": {
    "collapsed": false
   },
   "outputs": [
    {
     "data": {
      "text/plain": [
       "86047"
      ]
     },
     "execution_count": 8,
     "metadata": {},
     "output_type": "execute_result"
    }
   ],
   "source": [
    "# Paid App\n",
    "len(df[df.price != 0])"
   ]
  },
  {
   "cell_type": "code",
   "execution_count": 10,
   "metadata": {
    "collapsed": false
   },
   "outputs": [
    {
     "data": {
      "text/plain": [
       "75123"
      ]
     },
     "execution_count": 10,
     "metadata": {},
     "output_type": "execute_result"
    }
   ],
   "source": [
    "len(df[df.Raters==0])"
   ]
  },
  {
   "cell_type": "code",
   "execution_count": 11,
   "metadata": {
    "collapsed": true
   },
   "outputs": [],
   "source": [
    "df[\"score\"]=(df.all_rating * df.all_rating_count)/ df.age"
   ]
  },
  {
   "cell_type": "code",
   "execution_count": 12,
   "metadata": {
    "collapsed": false
   },
   "outputs": [
    {
     "data": {
      "text/html": [
       "<div>\n",
       "<table border=\"1\" class=\"dataframe\">\n",
       "  <thead>\n",
       "    <tr style=\"text-align: right;\">\n",
       "      <th></th>\n",
       "      <th>age</th>\n",
       "      <th>all_rating</th>\n",
       "      <th>all_rating_count</th>\n",
       "      <th>app_name</th>\n",
       "      <th>bundle_id</th>\n",
       "      <th>date</th>\n",
       "      <th>downloads</th>\n",
       "      <th>epoch_date</th>\n",
       "      <th>file_size</th>\n",
       "      <th>genre</th>\n",
       "      <th>icon_url</th>\n",
       "      <th>mod_genre</th>\n",
       "      <th>price</th>\n",
       "      <th>Downloads</th>\n",
       "      <th>Age</th>\n",
       "      <th>Raters</th>\n",
       "      <th>Price</th>\n",
       "      <th>FileSize</th>\n",
       "      <th>score</th>\n",
       "    </tr>\n",
       "  </thead>\n",
       "  <tbody>\n",
       "    <tr>\n",
       "      <th>0</th>\n",
       "      <td>345</td>\n",
       "      <td>5.0</td>\n",
       "      <td>2</td>\n",
       "      <td>! Insta-Face</td>\n",
       "      <td>bytesinarow.instaface</td>\n",
       "      <td>2012-07-21</td>\n",
       "      <td>750</td>\n",
       "      <td>1342828800</td>\n",
       "      <td>0.364</td>\n",
       "      <td>Social</td>\n",
       "      <td>https://lh6.ggpht.com/tLAk2kdsvWf22tEdsFHrN-Kv...</td>\n",
       "      <td>Social Networking</td>\n",
       "      <td>0.0</td>\n",
       "      <td>6.620073</td>\n",
       "      <td>5.843544</td>\n",
       "      <td>0.693147</td>\n",
       "      <td>-2.302585</td>\n",
       "      <td>-1.010601</td>\n",
       "      <td>0.028986</td>\n",
       "    </tr>\n",
       "    <tr>\n",
       "      <th>1</th>\n",
       "      <td>340</td>\n",
       "      <td>4.2</td>\n",
       "      <td>58</td>\n",
       "      <td>Cats and Dogs Sounds</td>\n",
       "      <td>com.juicyapplications.catsanddogssounds</td>\n",
       "      <td>2012-07-26</td>\n",
       "      <td>30000</td>\n",
       "      <td>1343260800</td>\n",
       "      <td>3.300</td>\n",
       "      <td>Entertainment</td>\n",
       "      <td>https://lh3.ggpht.com/Inhxv4Ei2aQpVfBqYwuIeYEF...</td>\n",
       "      <td>Entertainment</td>\n",
       "      <td>0.0</td>\n",
       "      <td>10.308953</td>\n",
       "      <td>5.828946</td>\n",
       "      <td>4.060443</td>\n",
       "      <td>-2.302585</td>\n",
       "      <td>1.193922</td>\n",
       "      <td>0.716471</td>\n",
       "    </tr>\n",
       "    <tr>\n",
       "      <th>2</th>\n",
       "      <td>531</td>\n",
       "      <td>3.9</td>\n",
       "      <td>535</td>\n",
       "      <td>Ceneo</td>\n",
       "      <td>pl.ceneo</td>\n",
       "      <td>2012-01-17</td>\n",
       "      <td>300000</td>\n",
       "      <td>1326758400</td>\n",
       "      <td>0.693</td>\n",
       "      <td>Shopping</td>\n",
       "      <td>https://lh6.ggpht.com/uWe2mtTPzQkPGJF7zvmR-iRU...</td>\n",
       "      <td>Shopping</td>\n",
       "      <td>0.0</td>\n",
       "      <td>12.611538</td>\n",
       "      <td>6.274762</td>\n",
       "      <td>6.282267</td>\n",
       "      <td>-2.302585</td>\n",
       "      <td>-0.366725</td>\n",
       "      <td>3.929379</td>\n",
       "    </tr>\n",
       "  </tbody>\n",
       "</table>\n",
       "</div>"
      ],
      "text/plain": [
       "   age  all_rating  all_rating_count              app_name  \\\n",
       "0  345         5.0                 2          ! Insta-Face   \n",
       "1  340         4.2                58  Cats and Dogs Sounds   \n",
       "2  531         3.9               535                 Ceneo   \n",
       "\n",
       "                                 bundle_id        date  downloads  epoch_date  \\\n",
       "0                    bytesinarow.instaface  2012-07-21        750  1342828800   \n",
       "1  com.juicyapplications.catsanddogssounds  2012-07-26      30000  1343260800   \n",
       "2                                 pl.ceneo  2012-01-17     300000  1326758400   \n",
       "\n",
       "   file_size          genre  \\\n",
       "0      0.364         Social   \n",
       "1      3.300  Entertainment   \n",
       "2      0.693       Shopping   \n",
       "\n",
       "                                            icon_url          mod_genre  \\\n",
       "0  https://lh6.ggpht.com/tLAk2kdsvWf22tEdsFHrN-Kv...  Social Networking   \n",
       "1  https://lh3.ggpht.com/Inhxv4Ei2aQpVfBqYwuIeYEF...      Entertainment   \n",
       "2  https://lh6.ggpht.com/uWe2mtTPzQkPGJF7zvmR-iRU...           Shopping   \n",
       "\n",
       "   price  Downloads       Age    Raters     Price  FileSize     score  \n",
       "0    0.0   6.620073  5.843544  0.693147 -2.302585 -1.010601  0.028986  \n",
       "1    0.0  10.308953  5.828946  4.060443 -2.302585  1.193922  0.716471  \n",
       "2    0.0  12.611538  6.274762  6.282267 -2.302585 -0.366725  3.929379  "
      ]
     },
     "execution_count": 12,
     "metadata": {},
     "output_type": "execute_result"
    }
   ],
   "source": [
    "# Log Values column starts with a capital letter\n",
    "df.head(3)"
   ]
  },
  {
   "cell_type": "code",
   "execution_count": 13,
   "metadata": {
    "collapsed": true
   },
   "outputs": [],
   "source": [
    "dfpaid= df[df.price!=0.0]"
   ]
  },
  {
   "cell_type": "code",
   "execution_count": 14,
   "metadata": {
    "collapsed": false
   },
   "outputs": [],
   "source": [
    "dffree= df[df.price==0.0]"
   ]
  },
  {
   "cell_type": "code",
   "execution_count": 31,
   "metadata": {
    "collapsed": true
   },
   "outputs": [],
   "source": [
    "# Paid <Genre> \n",
    "dfpsh = dfpaid[dfpaid.mod_genre=='Shopping']"
   ]
  },
  {
   "cell_type": "code",
   "execution_count": 32,
   "metadata": {
    "collapsed": true
   },
   "outputs": [],
   "source": [
    "# Free <Genre>\n",
    "dffsh = dffree[dffree.mod_genre=='Shopping']"
   ]
  },
  {
   "cell_type": "markdown",
   "metadata": {},
   "source": [
    "#### Creating our Model (Linear Regression) A simple ordinary least squares model."
   ]
  },
  {
   "cell_type": "code",
   "execution_count": 34,
   "metadata": {
    "collapsed": false
   },
   "outputs": [
    {
     "name": "stdout",
     "output_type": "stream",
     "text": [
      "\n",
      "Coefficients for all android apps with log variables(Download,Raters,Age)\n",
      "\n",
      "                            OLS Regression Results                            \n",
      "==============================================================================\n",
      "Dep. Variable:              Downloads   R-squared:                       0.743\n",
      "Model:                            OLS   Adj. R-squared:                  0.743\n",
      "Method:                 Least Squares   F-statistic:                     5604.\n",
      "Date:                Thu, 13 Apr 2017   Prob (F-statistic):               0.00\n",
      "Time:                        17:29:50   Log-Likelihood:                -13012.\n",
      "No. Observations:                7740   AIC:                         2.603e+04\n",
      "Df Residuals:                    7735   BIC:                         2.607e+04\n",
      "Df Model:                           4                                         \n",
      "Covariance Type:            nonrobust                                         \n",
      "==============================================================================\n",
      "                 coef    std err          t      P>|t|      [0.025      0.975]\n",
      "------------------------------------------------------------------------------\n",
      "Intercept      0.3873      0.232      1.668      0.095      -0.068       0.842\n",
      "price      -1.076e-16   1.21e-18    -88.825      0.000    -1.1e-16   -1.05e-16\n",
      "all_rating    -0.2493      0.015    -16.901      0.000      -0.278      -0.220\n",
      "Raters         1.0819      0.008    131.571      0.000       1.066       1.098\n",
      "file_size      0.0104      0.004      2.436      0.015       0.002       0.019\n",
      "Age            0.8815      0.035     25.186      0.000       0.813       0.950\n",
      "==============================================================================\n",
      "Omnibus:                       69.925   Durbin-Watson:                   1.846\n",
      "Prob(Omnibus):                  0.000   Jarque-Bera (JB):               77.752\n",
      "Skew:                          -0.191   Prob(JB):                     1.31e-17\n",
      "Kurtosis:                       3.309   Cond. No.                     3.78e+16\n",
      "==============================================================================\n",
      "\n",
      "Warnings:\n",
      "[1] Standard Errors assume that the covariance matrix of the errors is correctly specified.\n",
      "[2] The smallest eigenvalue is 3.44e-28. This might indicate that there are\n",
      "strong multicollinearity problems or that the design matrix is singular.\n"
     ]
    }
   ],
   "source": [
    "import statsmodels.formula.api as smf\n",
    "formula='Downloads ~ price + all_rating + Raters + file_size + Age'\n",
    "lindf = smf.ols(formula, data=dffsh)\n",
    "result = lindf.fit()\n",
    "print(\"\\nCoefficients for all android apps with log variables(Download,Raters,Age)\\n\")\n",
    "print(result.summary())"
   ]
  },
  {
   "cell_type": "markdown",
   "metadata": {},
   "source": [
    "#### Something different"
   ]
  },
  {
   "cell_type": "code",
   "execution_count": 104,
   "metadata": {
    "collapsed": true
   },
   "outputs": [],
   "source": [
    "y= df.Downloads\n",
    "X= df[['price', 'all_rating','Raters','file_size','Age']]"
   ]
  },
  {
   "cell_type": "code",
   "execution_count": 103,
   "metadata": {
    "collapsed": false
   },
   "outputs": [
    {
     "name": "stdout",
     "output_type": "stream",
     "text": [
      "                            OLS Regression Results                            \n",
      "==============================================================================\n",
      "Dep. Variable:              Downloads   R-squared:                       0.955\n",
      "Model:                            OLS   Adj. R-squared:                  0.955\n",
      "Method:                 Least Squares   F-statistic:                 3.673e+05\n",
      "Date:                Thu, 13 Apr 2017   Prob (F-statistic):               0.00\n",
      "Time:                        17:01:03   Log-Likelihood:            -1.3281e+05\n",
      "No. Observations:               86047   AIC:                         2.656e+05\n",
      "Df Residuals:                   86042   BIC:                         2.657e+05\n",
      "Df Model:                           5                                         \n",
      "Covariance Type:            nonrobust                                         \n",
      "==============================================================================\n",
      "                 coef    std err          t      P>|t|      [0.025      0.975]\n",
      "------------------------------------------------------------------------------\n",
      "price         -0.0035      0.001     -6.205      0.000      -0.005      -0.002\n",
      "all_rating    -0.0800      0.003    -25.490      0.000      -0.086      -0.074\n",
      "Raters         1.0659      0.002    430.628      0.000       1.061       1.071\n",
      "file_size      0.0007      0.000      4.155      0.000       0.000       0.001\n",
      "Age            0.5898      0.002    277.355      0.000       0.586       0.594\n",
      "==============================================================================\n",
      "Omnibus:                      213.833   Durbin-Watson:                   1.779\n",
      "Prob(Omnibus):                  0.000   Jarque-Bera (JB):              222.306\n",
      "Skew:                          -0.105   Prob(JB):                     5.33e-49\n",
      "Kurtosis:                       3.135   Cond. No.                         24.6\n",
      "==============================================================================\n",
      "\n",
      "Warnings:\n",
      "[1] Standard Errors assume that the covariance matrix of the errors is correctly specified.\n"
     ]
    }
   ],
   "source": [
    "model = smf.OLS(y,X)\n",
    "results = model.fit()\n",
    "print(results.summary())"
   ]
  },
  {
   "cell_type": "markdown",
   "metadata": {
    "collapsed": true
   },
   "source": [
    "-----------------------------------------"
   ]
  }
 ],
 "metadata": {
  "kernelspec": {
   "display_name": "Python 2",
   "language": "python",
   "name": "python2"
  },
  "language_info": {
   "codemirror_mode": {
    "name": "ipython",
    "version": 2
   },
   "file_extension": ".py",
   "mimetype": "text/x-python",
   "name": "python",
   "nbconvert_exporter": "python",
   "pygments_lexer": "ipython2",
   "version": "2.7.11"
  }
 },
 "nbformat": 4,
 "nbformat_minor": 0
}
