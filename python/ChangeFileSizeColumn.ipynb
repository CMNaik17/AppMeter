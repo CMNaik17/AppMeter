{
 "cells": [
  {
   "cell_type": "markdown",
   "metadata": {},
   "source": [
    "### aghatpande on 14-April-2017 for AppMeter\n",
    "### Original data has \"File size\" column which has values in KB and MB.\n",
    "### This logic will change the original data \"FileSize\" and make everything in MB"
   ]
  },
  {
   "cell_type": "code",
   "execution_count": null,
   "metadata": {
    "collapsed": true
   },
   "outputs": [],
   "source": [
    "import string\n",
    "def changeFileSize(x):\n",
    "    tempstring = str(x)\n",
    "    tempstring = tempstring.replace(\",\",\"\")\n",
    "    if str(x).endswith(\"k\"):\n",
    "        tempstring = tempstring.rstrip(\"k\") \n",
    "        tempfloat = float(tempstring)\n",
    "        return float(tempfloat/1000)\n",
    "    if str(x).endswith(\"M\"):\n",
    "        tempstring = tempstring.rstrip(\"M\")\n",
    "        return float(tempstring)\n",
    "    else:\n",
    "        return int(0.0)"
   ]
  }
 ],
 "metadata": {
  "kernelspec": {
   "display_name": "Python 2",
   "language": "python",
   "name": "python2"
  },
  "language_info": {
   "codemirror_mode": {
    "name": "ipython",
    "version": 2
   },
   "file_extension": ".py",
   "mimetype": "text/x-python",
   "name": "python",
   "nbconvert_exporter": "python",
   "pygments_lexer": "ipython2",
   "version": "2.7.11"
  }
 },
 "nbformat": 4,
 "nbformat_minor": 0
}
