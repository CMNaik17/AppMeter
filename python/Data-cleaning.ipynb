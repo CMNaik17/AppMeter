{
 "cells": [
  {
   "cell_type": "markdown",
   "metadata": {},
   "source": [
    "### Ameya on 30 April for AppMeter\n",
    "### This file will read the big json file and will split in into multiple json files\n",
    "1. Will read individual Json files, remove the extra columns and save .csv file for each part\n",
    "2. Will read individual .csv files, combine them in one big dataframe\n",
    "3. Remove all rows for raters == 0\n",
    "4. Convert price column\n",
    "5. Convert downloads column (Also check for NaN)\n",
    "6. Convert file_size column\n",
    "7. Convert genre into less number of genre's (mod_genre)\n",
    "8. Remove special characters and Non ascii characters from app_name column\n",
    "9. Save the cleaned file as .csv file"
   ]
  },
  {
   "cell_type": "code",
   "execution_count": 1,
   "metadata": {
    "collapsed": true
   },
   "outputs": [],
   "source": [
    "# <aghatpande> on 07-Mar-2017\n",
    "# print all the outputs in a cell\n",
    "from IPython.core.interactiveshell import InteractiveShell\n",
    "InteractiveShell.ast_node_interactivity = \"all\""
   ]
  },
  {
   "cell_type": "code",
   "execution_count": 2,
   "metadata": {
    "collapsed": true
   },
   "outputs": [],
   "source": [
    "import pandas as pd\n",
    "import numpy as np"
   ]
  },
  {
   "cell_type": "code",
   "execution_count": null,
   "metadata": {
    "collapsed": true
   },
   "outputs": [],
   "source": [
    "class Jsonloads:\n",
    "    def read_in_chunks(self, file_object, chunk_size=500000000):\n",
    "        while True:\n",
    "            data = file_object.read(chunk_size)\n",
    "            if not data:\n",
    "                break\n",
    "            yield data"
   ]
  },
  {
   "cell_type": "code",
   "execution_count": null,
   "metadata": {
    "collapsed": false
   },
   "outputs": [],
   "source": [
    "count = 1;\n",
    "# <ghatpande> on 14-April-2017 for AppMeter\n",
    "# Give the path of the large input JSON file\n",
    "f = open('Original_Data_from_Luka.json')\n",
    "for piece in Jsonloads().read_in_chunks(f):\n",
    "    pathname = \"part\" + str(count) + \".csv\"\n",
    "    text_file = open(pathname, \"w\")\n",
    "    text_file.write(piece)\n",
    "    text_file.close()\n",
    "    count = count + 1;\n",
    "    print(\"\\n ==========The new chunk is ======== \\n\")\n",
    "\n",
    "print(\"Count is %d\" %count);"
   ]
  },
  {
   "cell_type": "code",
   "execution_count": null,
   "metadata": {
    "collapsed": false
   },
   "outputs": [],
   "source": [
    "df = pd.read_json(\"part1.json\", typ=\"frame\", lines=True)"
   ]
  },
  {
   "cell_type": "code",
   "execution_count": null,
   "metadata": {
    "collapsed": false,
    "scrolled": true
   },
   "outputs": [],
   "source": [
    "df.head(2)\n",
    "df.columns\n",
    "len(df)"
   ]
  },
  {
   "cell_type": "code",
   "execution_count": null,
   "metadata": {
    "collapsed": true
   },
   "outputs": [],
   "source": [
    "df1 = df[[\"all_rating\", \"all_rating_count\", \"app_name\", \"bundle_id\", \"content_rating\", \"description\", \"downloads\", \"file_size\", \"genre\", \"icon_url\", \"id\", \"price\", \"version\", \"whats_new\", \"status_unix_timestamp\", \"status_date\"]]"
   ]
  },
  {
   "cell_type": "code",
   "execution_count": null,
   "metadata": {
    "collapsed": false
   },
   "outputs": [],
   "source": [
    "df1.head(2)\n",
    "len(df1)"
   ]
  },
  {
   "cell_type": "code",
   "execution_count": null,
   "metadata": {
    "collapsed": true
   },
   "outputs": [],
   "source": [
    "df1.to_csv(path_or_buf=\"part1.csv\", header=True, index=False, encoding=\"utf-8\")"
   ]
  },
  {
   "cell_type": "code",
   "execution_count": 7,
   "metadata": {
    "collapsed": false
   },
   "outputs": [
    {
     "data": {
      "text/plain": [
       "187555"
      ]
     },
     "execution_count": 7,
     "metadata": {},
     "output_type": "execute_result"
    },
    {
     "data": {
      "text/html": [
       "<div>\n",
       "<table border=\"1\" class=\"dataframe\">\n",
       "  <thead>\n",
       "    <tr style=\"text-align: right;\">\n",
       "      <th></th>\n",
       "      <th>all_rating</th>\n",
       "      <th>all_rating_count</th>\n",
       "      <th>app_name</th>\n",
       "      <th>bundle_id</th>\n",
       "      <th>content_rating</th>\n",
       "      <th>description</th>\n",
       "      <th>downloads</th>\n",
       "      <th>file_size</th>\n",
       "      <th>genre</th>\n",
       "      <th>icon_url</th>\n",
       "      <th>id</th>\n",
       "      <th>price</th>\n",
       "      <th>version</th>\n",
       "      <th>whats_new</th>\n",
       "      <th>status_unix_timestamp</th>\n",
       "      <th>status_date</th>\n",
       "    </tr>\n",
       "  </thead>\n",
       "  <tbody>\n",
       "    <tr>\n",
       "      <th>0</th>\n",
       "      <td>5.0</td>\n",
       "      <td>2</td>\n",
       "      <td>! Insta-Face</td>\n",
       "      <td>bytesinarow.instaface</td>\n",
       "      <td>Low Maturity</td>\n",
       "      <td>Insta-Face is an easy-to-use app which will he...</td>\n",
       "      <td>500 - 1,000</td>\n",
       "      <td>364k</td>\n",
       "      <td>Social</td>\n",
       "      <td>https://lh6.ggpht.com/tLAk2kdsvWf22tEdsFHrN-Kv...</td>\n",
       "      <td>bytesinarow.instaface</td>\n",
       "      <td>Free</td>\n",
       "      <td>1.4</td>\n",
       "      <td>&lt;p&gt;What's in this version:&lt;/p&gt;* Exit menu opti...</td>\n",
       "      <td>1353110400</td>\n",
       "      <td>November 17, 2012</td>\n",
       "    </tr>\n",
       "    <tr>\n",
       "      <th>1</th>\n",
       "      <td>0.0</td>\n",
       "      <td>0</td>\n",
       "      <td>! Insta-Face Pro</td>\n",
       "      <td>bytesinarow.instafacepro</td>\n",
       "      <td>Everyone</td>\n",
       "      <td>Insta-Face is an easy-to-use app which will he...</td>\n",
       "      <td>1 - 5</td>\n",
       "      <td>888k</td>\n",
       "      <td>Social</td>\n",
       "      <td>https://lh3.ggpht.com/cdJqCdM6ymrFHE69JxglBm9p...</td>\n",
       "      <td>bytesinarow.instafacepro</td>\n",
       "      <td>$0.99</td>\n",
       "      <td>1.2</td>\n",
       "      <td>&lt;p&gt;What's in this version:&lt;/p&gt;Translated to Sp...</td>\n",
       "      <td>1345075200</td>\n",
       "      <td>August 16, 2012</td>\n",
       "    </tr>\n",
       "  </tbody>\n",
       "</table>\n",
       "</div>"
      ],
      "text/plain": [
       "   all_rating  all_rating_count          app_name                 bundle_id  \\\n",
       "0         5.0                 2      ! Insta-Face     bytesinarow.instaface   \n",
       "1         0.0                 0  ! Insta-Face Pro  bytesinarow.instafacepro   \n",
       "\n",
       "  content_rating                                        description  \\\n",
       "0   Low Maturity  Insta-Face is an easy-to-use app which will he...   \n",
       "1       Everyone  Insta-Face is an easy-to-use app which will he...   \n",
       "\n",
       "     downloads file_size   genre  \\\n",
       "0  500 - 1,000      364k  Social   \n",
       "1        1 - 5      888k  Social   \n",
       "\n",
       "                                            icon_url  \\\n",
       "0  https://lh6.ggpht.com/tLAk2kdsvWf22tEdsFHrN-Kv...   \n",
       "1  https://lh3.ggpht.com/cdJqCdM6ymrFHE69JxglBm9p...   \n",
       "\n",
       "                         id  price version  \\\n",
       "0     bytesinarow.instaface   Free     1.4   \n",
       "1  bytesinarow.instafacepro  $0.99     1.2   \n",
       "\n",
       "                                           whats_new  status_unix_timestamp  \\\n",
       "0  <p>What's in this version:</p>* Exit menu opti...             1353110400   \n",
       "1  <p>What's in this version:</p>Translated to Sp...             1345075200   \n",
       "\n",
       "         status_date  \n",
       "0  November 17, 2012  \n",
       "1    August 16, 2012  "
      ]
     },
     "execution_count": 7,
     "metadata": {},
     "output_type": "execute_result"
    },
    {
     "data": {
      "text/plain": [
       "all_rating               float64\n",
       "all_rating_count           int64\n",
       "app_name                  object\n",
       "bundle_id                 object\n",
       "content_rating            object\n",
       "description               object\n",
       "downloads                 object\n",
       "file_size                 object\n",
       "genre                     object\n",
       "icon_url                  object\n",
       "id                        object\n",
       "price                     object\n",
       "version                   object\n",
       "whats_new                 object\n",
       "status_unix_timestamp      int64\n",
       "status_date               object\n",
       "dtype: object"
      ]
     },
     "execution_count": 7,
     "metadata": {},
     "output_type": "execute_result"
    }
   ],
   "source": [
    "dftemp1 = pd.read_csv(\"part1.csv\")\n",
    "len(dftemp1)\n",
    "dftemp1.head(2)\n",
    "dftemp1.dtypes"
   ]
  },
  {
   "cell_type": "code",
   "execution_count": null,
   "metadata": {
    "collapsed": true
   },
   "outputs": [],
   "source": [
    "df = pd.read_json(\"part2.json\", typ=\"frame\", lines=True)"
   ]
  },
  {
   "cell_type": "code",
   "execution_count": null,
   "metadata": {
    "collapsed": true
   },
   "outputs": [],
   "source": [
    "df2 = df[[\"all_rating\", \"all_rating_count\", \"app_name\", \"bundle_id\", \"content_rating\", \"description\", \"downloads\", \"file_size\", \"genre\", \"icon_url\", \"id\", \"price\", \"version\", \"whats_new\", \"status_unix_timestamp\", \"status_date\"]]"
   ]
  },
  {
   "cell_type": "code",
   "execution_count": null,
   "metadata": {
    "collapsed": true
   },
   "outputs": [],
   "source": [
    "df2.to_csv(path_or_buf=\"part2.csv\", header=True, index=False, encoding=\"utf-8\")"
   ]
  },
  {
   "cell_type": "code",
   "execution_count": 8,
   "metadata": {
    "collapsed": false
   },
   "outputs": [
    {
     "data": {
      "text/plain": [
       "186313"
      ]
     },
     "execution_count": 8,
     "metadata": {},
     "output_type": "execute_result"
    },
    {
     "data": {
      "text/html": [
       "<div>\n",
       "<table border=\"1\" class=\"dataframe\">\n",
       "  <thead>\n",
       "    <tr style=\"text-align: right;\">\n",
       "      <th></th>\n",
       "      <th>all_rating</th>\n",
       "      <th>all_rating_count</th>\n",
       "      <th>app_name</th>\n",
       "      <th>bundle_id</th>\n",
       "      <th>content_rating</th>\n",
       "      <th>description</th>\n",
       "      <th>downloads</th>\n",
       "      <th>file_size</th>\n",
       "      <th>genre</th>\n",
       "      <th>icon_url</th>\n",
       "      <th>id</th>\n",
       "      <th>price</th>\n",
       "      <th>version</th>\n",
       "      <th>whats_new</th>\n",
       "      <th>status_unix_timestamp</th>\n",
       "      <th>status_date</th>\n",
       "    </tr>\n",
       "  </thead>\n",
       "  <tbody>\n",
       "    <tr>\n",
       "      <th>0</th>\n",
       "      <td>0.0</td>\n",
       "      <td>0</td>\n",
       "      <td>Fluidtrans Compomac</td>\n",
       "      <td>it.crisma.mobile.fluidtrans</td>\n",
       "      <td>Low Maturity</td>\n",
       "      <td>Organise your visit to the 2012 edition of Flu...</td>\n",
       "      <td>1 - 5</td>\n",
       "      <td>1.3M</td>\n",
       "      <td>Business</td>\n",
       "      <td>https://lh3.ggpht.com/hVb2MHxuWMbNVviIQ2vvMnej...</td>\n",
       "      <td>it.crisma.mobile.fluidtrans</td>\n",
       "      <td>Free</td>\n",
       "      <td>1.0</td>\n",
       "      <td>&lt;div class=\"doc-permissions\"&gt;No recent changes...</td>\n",
       "      <td>1336348800</td>\n",
       "      <td>May 7, 2012</td>\n",
       "    </tr>\n",
       "    <tr>\n",
       "      <th>1</th>\n",
       "      <td>2.9</td>\n",
       "      <td>47</td>\n",
       "      <td>Fluke Messfibel App</td>\n",
       "      <td>biz.comvex.android.messfibel2011</td>\n",
       "      <td>Low Maturity</td>\n",
       "      <td>Die Messfibel bietet Ihnen ein breites Wissen ...</td>\n",
       "      <td>5,000 - 10,000</td>\n",
       "      <td>46M</td>\n",
       "      <td>Books &amp; Reference</td>\n",
       "      <td>https://lh4.ggpht.com/UXd023r7h3fwBRwIU6rUSn9l...</td>\n",
       "      <td>biz.comvex.android.messfibel2011</td>\n",
       "      <td>Free</td>\n",
       "      <td>1.0</td>\n",
       "      <td>&lt;div class=\"doc-permissions\"&gt;No recent changes...</td>\n",
       "      <td>1314835200</td>\n",
       "      <td>September 1, 2011</td>\n",
       "    </tr>\n",
       "  </tbody>\n",
       "</table>\n",
       "</div>"
      ],
      "text/plain": [
       "   all_rating  all_rating_count             app_name  \\\n",
       "0         0.0                 0  Fluidtrans Compomac   \n",
       "1         2.9                47  Fluke Messfibel App   \n",
       "\n",
       "                          bundle_id content_rating  \\\n",
       "0       it.crisma.mobile.fluidtrans   Low Maturity   \n",
       "1  biz.comvex.android.messfibel2011   Low Maturity   \n",
       "\n",
       "                                         description       downloads  \\\n",
       "0  Organise your visit to the 2012 edition of Flu...           1 - 5   \n",
       "1  Die Messfibel bietet Ihnen ein breites Wissen ...  5,000 - 10,000   \n",
       "\n",
       "  file_size              genre  \\\n",
       "0      1.3M           Business   \n",
       "1       46M  Books & Reference   \n",
       "\n",
       "                                            icon_url  \\\n",
       "0  https://lh3.ggpht.com/hVb2MHxuWMbNVviIQ2vvMnej...   \n",
       "1  https://lh4.ggpht.com/UXd023r7h3fwBRwIU6rUSn9l...   \n",
       "\n",
       "                                 id price version  \\\n",
       "0       it.crisma.mobile.fluidtrans  Free     1.0   \n",
       "1  biz.comvex.android.messfibel2011  Free     1.0   \n",
       "\n",
       "                                           whats_new  status_unix_timestamp  \\\n",
       "0  <div class=\"doc-permissions\">No recent changes...             1336348800   \n",
       "1  <div class=\"doc-permissions\">No recent changes...             1314835200   \n",
       "\n",
       "         status_date  \n",
       "0        May 7, 2012  \n",
       "1  September 1, 2011  "
      ]
     },
     "execution_count": 8,
     "metadata": {},
     "output_type": "execute_result"
    },
    {
     "data": {
      "text/plain": [
       "all_rating               float64\n",
       "all_rating_count           int64\n",
       "app_name                  object\n",
       "bundle_id                 object\n",
       "content_rating            object\n",
       "description               object\n",
       "downloads                 object\n",
       "file_size                 object\n",
       "genre                     object\n",
       "icon_url                  object\n",
       "id                        object\n",
       "price                     object\n",
       "version                   object\n",
       "whats_new                 object\n",
       "status_unix_timestamp      int64\n",
       "status_date               object\n",
       "dtype: object"
      ]
     },
     "execution_count": 8,
     "metadata": {},
     "output_type": "execute_result"
    }
   ],
   "source": [
    "dftemp2 = pd.read_csv(\"part2.csv\")\n",
    "len(dftemp2)\n",
    "dftemp2.head(2)\n",
    "dftemp2.dtypes"
   ]
  },
  {
   "cell_type": "code",
   "execution_count": null,
   "metadata": {
    "collapsed": true
   },
   "outputs": [],
   "source": [
    "df = pd.read_json(\"part3.json\", typ=\"frame\", lines=True)"
   ]
  },
  {
   "cell_type": "code",
   "execution_count": null,
   "metadata": {
    "collapsed": true
   },
   "outputs": [],
   "source": [
    "df3 = df[[\"all_rating\", \"all_rating_count\", \"app_name\", \"bundle_id\", \"content_rating\", \"description\", \"downloads\", \"file_size\", \"genre\", \"icon_url\", \"id\", \"price\", \"version\", \"whats_new\", \"status_unix_timestamp\", \"status_date\"]]"
   ]
  },
  {
   "cell_type": "code",
   "execution_count": null,
   "metadata": {
    "collapsed": true
   },
   "outputs": [],
   "source": [
    "df3.to_csv(path_or_buf=\"part3.csv\", header=True, index=False, encoding=\"utf-8\")"
   ]
  },
  {
   "cell_type": "code",
   "execution_count": 9,
   "metadata": {
    "collapsed": false
   },
   "outputs": [
    {
     "data": {
      "text/plain": [
       "189359"
      ]
     },
     "execution_count": 9,
     "metadata": {},
     "output_type": "execute_result"
    },
    {
     "data": {
      "text/html": [
       "<div>\n",
       "<table border=\"1\" class=\"dataframe\">\n",
       "  <thead>\n",
       "    <tr style=\"text-align: right;\">\n",
       "      <th></th>\n",
       "      <th>all_rating</th>\n",
       "      <th>all_rating_count</th>\n",
       "      <th>app_name</th>\n",
       "      <th>bundle_id</th>\n",
       "      <th>content_rating</th>\n",
       "      <th>description</th>\n",
       "      <th>downloads</th>\n",
       "      <th>file_size</th>\n",
       "      <th>genre</th>\n",
       "      <th>icon_url</th>\n",
       "      <th>id</th>\n",
       "      <th>price</th>\n",
       "      <th>version</th>\n",
       "      <th>whats_new</th>\n",
       "      <th>status_unix_timestamp</th>\n",
       "      <th>status_date</th>\n",
       "    </tr>\n",
       "  </thead>\n",
       "  <tbody>\n",
       "    <tr>\n",
       "      <th>0</th>\n",
       "      <td>0.0</td>\n",
       "      <td>0</td>\n",
       "      <td>Parenting Toddlers</td>\n",
       "      <td>com.wParentingToddlers</td>\n",
       "      <td>Everyone</td>\n",
       "      <td>***Download App Now***&lt;br&gt;***This App will tea...</td>\n",
       "      <td>1 - 5</td>\n",
       "      <td>218k</td>\n",
       "      <td>Books &amp; Reference</td>\n",
       "      <td>https://lh3.ggpht.com/FR-Nf7AkFm45N2jfE5IeNts2...</td>\n",
       "      <td>com.wParentingToddlers</td>\n",
       "      <td>$1.76</td>\n",
       "      <td>0.1</td>\n",
       "      <td>&lt;div class=\"doc-permissions\"&gt;No recent changes...</td>\n",
       "      <td>1355788800</td>\n",
       "      <td>December 18, 2012</td>\n",
       "    </tr>\n",
       "    <tr>\n",
       "      <th>1</th>\n",
       "      <td>1.0</td>\n",
       "      <td>1</td>\n",
       "      <td>Parenting With Love And Logic</td>\n",
       "      <td>com.wParentingWithLoveAndLogic</td>\n",
       "      <td>Everyone</td>\n",
       "      <td>***Download App Now***&lt;br&gt;***This App will tea...</td>\n",
       "      <td>10 - 50</td>\n",
       "      <td>217k</td>\n",
       "      <td>Education</td>\n",
       "      <td>https://lh4.ggpht.com/jnvkpWH2OtI2iSILK9lm5TZr...</td>\n",
       "      <td>com.wParentingWithLoveAndLogic</td>\n",
       "      <td>$1.74</td>\n",
       "      <td>0.1</td>\n",
       "      <td>&lt;div class=\"doc-permissions\"&gt;No recent changes...</td>\n",
       "      <td>1354233600</td>\n",
       "      <td>November 30, 2012</td>\n",
       "    </tr>\n",
       "  </tbody>\n",
       "</table>\n",
       "</div>"
      ],
      "text/plain": [
       "   all_rating  all_rating_count                       app_name  \\\n",
       "0         0.0                 0             Parenting Toddlers   \n",
       "1         1.0                 1  Parenting With Love And Logic   \n",
       "\n",
       "                        bundle_id content_rating  \\\n",
       "0          com.wParentingToddlers       Everyone   \n",
       "1  com.wParentingWithLoveAndLogic       Everyone   \n",
       "\n",
       "                                         description downloads file_size  \\\n",
       "0  ***Download App Now***<br>***This App will tea...     1 - 5      218k   \n",
       "1  ***Download App Now***<br>***This App will tea...   10 - 50      217k   \n",
       "\n",
       "               genre                                           icon_url  \\\n",
       "0  Books & Reference  https://lh3.ggpht.com/FR-Nf7AkFm45N2jfE5IeNts2...   \n",
       "1          Education  https://lh4.ggpht.com/jnvkpWH2OtI2iSILK9lm5TZr...   \n",
       "\n",
       "                               id  price version  \\\n",
       "0          com.wParentingToddlers  $1.76     0.1   \n",
       "1  com.wParentingWithLoveAndLogic  $1.74     0.1   \n",
       "\n",
       "                                           whats_new  status_unix_timestamp  \\\n",
       "0  <div class=\"doc-permissions\">No recent changes...             1355788800   \n",
       "1  <div class=\"doc-permissions\">No recent changes...             1354233600   \n",
       "\n",
       "         status_date  \n",
       "0  December 18, 2012  \n",
       "1  November 30, 2012  "
      ]
     },
     "execution_count": 9,
     "metadata": {},
     "output_type": "execute_result"
    },
    {
     "data": {
      "text/plain": [
       "all_rating               float64\n",
       "all_rating_count           int64\n",
       "app_name                  object\n",
       "bundle_id                 object\n",
       "content_rating            object\n",
       "description               object\n",
       "downloads                 object\n",
       "file_size                 object\n",
       "genre                     object\n",
       "icon_url                  object\n",
       "id                        object\n",
       "price                     object\n",
       "version                   object\n",
       "whats_new                 object\n",
       "status_unix_timestamp      int64\n",
       "status_date               object\n",
       "dtype: object"
      ]
     },
     "execution_count": 9,
     "metadata": {},
     "output_type": "execute_result"
    }
   ],
   "source": [
    "dftemp3 = pd.read_csv(\"part3.csv\")\n",
    "len(dftemp3)\n",
    "dftemp3.head(2)\n",
    "dftemp3.dtypes"
   ]
  },
  {
   "cell_type": "code",
   "execution_count": 3,
   "metadata": {
    "collapsed": true
   },
   "outputs": [],
   "source": [
    "df = pd.read_json(\"part4.json\", typ=\"frame\", lines=True)"
   ]
  },
  {
   "cell_type": "code",
   "execution_count": 4,
   "metadata": {
    "collapsed": true
   },
   "outputs": [],
   "source": [
    "df4 = df[[\"all_rating\", \"all_rating_count\", \"app_name\", \"bundle_id\", \"content_rating\", \"description\", \"downloads\", \"file_size\", \"genre\", \"icon_url\", \"id\", \"price\", \"version\", \"whats_new\", \"status_unix_timestamp\", \"status_date\"]]"
   ]
  },
  {
   "cell_type": "code",
   "execution_count": 5,
   "metadata": {
    "collapsed": true
   },
   "outputs": [],
   "source": [
    "df4.to_csv(path_or_buf=\"part4.csv\", header=True, index=False, encoding=\"utf-8\")"
   ]
  },
  {
   "cell_type": "code",
   "execution_count": 10,
   "metadata": {
    "collapsed": false
   },
   "outputs": [
    {
     "data": {
      "text/plain": [
       "112674"
      ]
     },
     "execution_count": 10,
     "metadata": {},
     "output_type": "execute_result"
    },
    {
     "data": {
      "text/html": [
       "<div>\n",
       "<table border=\"1\" class=\"dataframe\">\n",
       "  <thead>\n",
       "    <tr style=\"text-align: right;\">\n",
       "      <th></th>\n",
       "      <th>all_rating</th>\n",
       "      <th>all_rating_count</th>\n",
       "      <th>app_name</th>\n",
       "      <th>bundle_id</th>\n",
       "      <th>content_rating</th>\n",
       "      <th>description</th>\n",
       "      <th>downloads</th>\n",
       "      <th>file_size</th>\n",
       "      <th>genre</th>\n",
       "      <th>icon_url</th>\n",
       "      <th>id</th>\n",
       "      <th>price</th>\n",
       "      <th>version</th>\n",
       "      <th>whats_new</th>\n",
       "      <th>status_unix_timestamp</th>\n",
       "      <th>status_date</th>\n",
       "    </tr>\n",
       "  </thead>\n",
       "  <tbody>\n",
       "    <tr>\n",
       "      <th>0</th>\n",
       "      <td>5.0</td>\n",
       "      <td>1</td>\n",
       "      <td>[동영상] 토익 문법 Vol.4</td>\n",
       "      <td>com.touchN.TenMinFinish4</td>\n",
       "      <td>Everyone</td>\n",
       "      <td>==============================================...</td>\n",
       "      <td>10 - 50</td>\n",
       "      <td>19M</td>\n",
       "      <td>Education</td>\n",
       "      <td>https://lh5.ggpht.com/p1yUIK55kczDKoTSjaHYEBnL...</td>\n",
       "      <td>com.touchN.TenMinFinish4</td>\n",
       "      <td>$2.91</td>\n",
       "      <td>1.0</td>\n",
       "      <td>&lt;div class=\"doc-permissions\"&gt;No recent changes...</td>\n",
       "      <td>1329782400</td>\n",
       "      <td>February 21, 2012</td>\n",
       "    </tr>\n",
       "    <tr>\n",
       "      <th>1</th>\n",
       "      <td>0.0</td>\n",
       "      <td>0</td>\n",
       "      <td>[동영상] 토익LC 특강</td>\n",
       "      <td>com.touchN.ToeicPartLC_Vol1</td>\n",
       "      <td>Everyone</td>\n",
       "      <td>==============================================...</td>\n",
       "      <td>10 - 50</td>\n",
       "      <td>30M</td>\n",
       "      <td>Education</td>\n",
       "      <td>https://lh5.ggpht.com/KnAJcJSZ97aaN6Na4mqh1Wnl...</td>\n",
       "      <td>com.touchN.ToeicPartLC_Vol1</td>\n",
       "      <td>$1.46</td>\n",
       "      <td>1.0</td>\n",
       "      <td>&lt;p&gt;What's in this version:&lt;/p&gt;하루에 10분씩 지하철, 버스...</td>\n",
       "      <td>1330819200</td>\n",
       "      <td>March 4, 2012</td>\n",
       "    </tr>\n",
       "  </tbody>\n",
       "</table>\n",
       "</div>"
      ],
      "text/plain": [
       "   all_rating  all_rating_count           app_name  \\\n",
       "0         5.0                 1  [동영상] 토익 문법 Vol.4   \n",
       "1         0.0                 0      [동영상] 토익LC 특강   \n",
       "\n",
       "                     bundle_id content_rating  \\\n",
       "0     com.touchN.TenMinFinish4       Everyone   \n",
       "1  com.touchN.ToeicPartLC_Vol1       Everyone   \n",
       "\n",
       "                                         description downloads file_size  \\\n",
       "0  ==============================================...   10 - 50       19M   \n",
       "1  ==============================================...   10 - 50       30M   \n",
       "\n",
       "       genre                                           icon_url  \\\n",
       "0  Education  https://lh5.ggpht.com/p1yUIK55kczDKoTSjaHYEBnL...   \n",
       "1  Education  https://lh5.ggpht.com/KnAJcJSZ97aaN6Na4mqh1Wnl...   \n",
       "\n",
       "                            id  price version  \\\n",
       "0     com.touchN.TenMinFinish4  $2.91     1.0   \n",
       "1  com.touchN.ToeicPartLC_Vol1  $1.46     1.0   \n",
       "\n",
       "                                           whats_new  status_unix_timestamp  \\\n",
       "0  <div class=\"doc-permissions\">No recent changes...             1329782400   \n",
       "1  <p>What's in this version:</p>하루에 10분씩 지하철, 버스...             1330819200   \n",
       "\n",
       "         status_date  \n",
       "0  February 21, 2012  \n",
       "1      March 4, 2012  "
      ]
     },
     "execution_count": 10,
     "metadata": {},
     "output_type": "execute_result"
    },
    {
     "data": {
      "text/plain": [
       "all_rating               float64\n",
       "all_rating_count           int64\n",
       "app_name                  object\n",
       "bundle_id                 object\n",
       "content_rating            object\n",
       "description               object\n",
       "downloads                 object\n",
       "file_size                 object\n",
       "genre                     object\n",
       "icon_url                  object\n",
       "id                        object\n",
       "price                     object\n",
       "version                   object\n",
       "whats_new                 object\n",
       "status_unix_timestamp      int64\n",
       "status_date               object\n",
       "dtype: object"
      ]
     },
     "execution_count": 10,
     "metadata": {},
     "output_type": "execute_result"
    }
   ],
   "source": [
    "dftemp4 = pd.read_csv(\"part4.csv\")\n",
    "len(dftemp4)\n",
    "dftemp4.head(2)\n",
    "dftemp4.dtypes"
   ]
  },
  {
   "cell_type": "code",
   "execution_count": 20,
   "metadata": {
    "collapsed": false
   },
   "outputs": [
    {
     "data": {
      "text/plain": [
       "187555"
      ]
     },
     "execution_count": 20,
     "metadata": {},
     "output_type": "execute_result"
    },
    {
     "data": {
      "text/plain": [
       "186313"
      ]
     },
     "execution_count": 20,
     "metadata": {},
     "output_type": "execute_result"
    },
    {
     "data": {
      "text/plain": [
       "189359"
      ]
     },
     "execution_count": 20,
     "metadata": {},
     "output_type": "execute_result"
    },
    {
     "data": {
      "text/plain": [
       "112674"
      ]
     },
     "execution_count": 20,
     "metadata": {},
     "output_type": "execute_result"
    }
   ],
   "source": [
    "len(dftemp1)\n",
    "len(dftemp2)\n",
    "len(dftemp3)\n",
    "len(dftemp4)"
   ]
  },
  {
   "cell_type": "code",
   "execution_count": 21,
   "metadata": {
    "collapsed": false
   },
   "outputs": [
    {
     "data": {
      "text/plain": [
       "675901"
      ]
     },
     "execution_count": 21,
     "metadata": {},
     "output_type": "execute_result"
    }
   ],
   "source": [
    "#Combine all the dataframes\n",
    "dfcombined = dftemp1.append(dftemp2)\n",
    "dfcombined = dfcombined.append(dftemp3)\n",
    "dfcombined = dfcombined.append(dftemp4)\n",
    "len(dfcombined)"
   ]
  },
  {
   "cell_type": "code",
   "execution_count": 25,
   "metadata": {
    "collapsed": false
   },
   "outputs": [
    {
     "data": {
      "text/plain": [
       "481399"
      ]
     },
     "execution_count": 25,
     "metadata": {},
     "output_type": "execute_result"
    }
   ],
   "source": [
    "# Remove all the entries with 0 raters\n",
    "dfcombined = dfcombined[dfcombined.all_rating_count != 0]\n",
    "len(dfcombined)"
   ]
  },
  {
   "cell_type": "code",
   "execution_count": 27,
   "metadata": {
    "collapsed": true
   },
   "outputs": [],
   "source": [
    "#Change price column\n",
    "\n",
    "def removedollar(x):\n",
    "    tempstring=str(x)\n",
    "    if str(x)==\"Free\":\n",
    "        tempstring=float(\"0\")\n",
    "    elif str(x).startswith(\"$\"):\n",
    "        tempstring1=str(x).lstrip(\"$\")\n",
    "        tempstring=float(tempstring1)\n",
    "    return float(tempstring)"
   ]
  },
  {
   "cell_type": "code",
   "execution_count": 28,
   "metadata": {
    "collapsed": true
   },
   "outputs": [],
   "source": [
    "dfcombined[\"price1\"]=dfcombined[\"price\"].apply (lambda x: removedollar(str(x)))"
   ]
  },
  {
   "cell_type": "code",
   "execution_count": 37,
   "metadata": {
    "collapsed": false
   },
   "outputs": [
    {
     "data": {
      "text/plain": [
       "481399"
      ]
     },
     "execution_count": 37,
     "metadata": {},
     "output_type": "execute_result"
    }
   ],
   "source": [
    "len(dfcombined)"
   ]
  },
  {
   "cell_type": "code",
   "execution_count": 41,
   "metadata": {
    "collapsed": false
   },
   "outputs": [],
   "source": [
    "# Remove the NaN from the downloads and AppName columns\n",
    "dfcombined = dfcombined[dfcombined.downloads.isnull() != True]\n",
    "dfcombined = dfcombined[dfcombined.app_name.isnull() != True]"
   ]
  },
  {
   "cell_type": "code",
   "execution_count": 42,
   "metadata": {
    "collapsed": false
   },
   "outputs": [
    {
     "data": {
      "text/plain": [
       "481153"
      ]
     },
     "execution_count": 42,
     "metadata": {},
     "output_type": "execute_result"
    }
   ],
   "source": [
    "len(dfcombined)"
   ]
  },
  {
   "cell_type": "code",
   "execution_count": 44,
   "metadata": {
    "collapsed": false
   },
   "outputs": [
    {
     "data": {
      "text/plain": [
       "all_rating               False\n",
       "all_rating_count         False\n",
       "app_name                 False\n",
       "bundle_id                False\n",
       "content_rating           False\n",
       "description              False\n",
       "downloads                False\n",
       "file_size                False\n",
       "genre                    False\n",
       "icon_url                 False\n",
       "id                       False\n",
       "price                    False\n",
       "version                  False\n",
       "whats_new                False\n",
       "status_unix_timestamp    False\n",
       "status_date              False\n",
       "price1                   False\n",
       "dtype: bool"
      ]
     },
     "execution_count": 44,
     "metadata": {},
     "output_type": "execute_result"
    }
   ],
   "source": [
    "#Make Sure none of the columns are NaN\n",
    "pd.isnull(dfcombined).sum() > 0"
   ]
  },
  {
   "cell_type": "code",
   "execution_count": 45,
   "metadata": {
    "collapsed": true
   },
   "outputs": [],
   "source": [
    "# Change the downloads column\n",
    "import string\n",
    "def modifydownloads(x):\n",
    "    tempstring = str(x)\n",
    "    if str(x)==\"1 - 5\":\n",
    "        tempstring = str(x).replace(\"1 - 5\",\"3\")\n",
    "    elif str(x)==\"5 - 10\":\n",
    "        tempstring = str(x).replace(\"5 - 10\",\"8\")\n",
    "    elif str(x)==\"10 - 50\":\n",
    "        tempstring = str(x).replace(\"10 - 50\",\"30\")\n",
    "    elif str(x)==\"50 - 100\":\n",
    "        tempstring = str(x).replace(\"50 - 100\",\"75\")\n",
    "    elif str(x)==\"100 - 500\":\n",
    "        tempstring = str(x).replace(\"100 - 500\",\"300\")\n",
    "    elif str(x)==\"500 - 1,000\":\n",
    "        tempstring = str(x).replace(\"500 - 1,000\",\"750\")\n",
    "    elif str(x)==\"1,000 - 5,000\":\n",
    "        tempstring = str(x).replace(\"1,000 - 5,000\",\"3000\")\n",
    "    elif str(x)==\"5,000 - 10,000\":\n",
    "        tempstring = str(x).replace(\"5,000 - 10,000\",\"7500\")\n",
    "    elif str(x)==\"10,000 - 50,000\":\n",
    "        tempstring = str(x).replace(\"10,000 - 50,000\",\"30000\")\n",
    "    elif str(x)==\"50,000 - 100,000\":\n",
    "        tempstring = str(x).replace(\"50,000 - 100,000\",\"75000\")\n",
    "    elif str(x)==\"100,000 - 500,000\":\n",
    "        tempstring = str(x).replace(\"100,000 - 500,000\",\"300000\")\n",
    "    elif str(x)==\"500,000 - 1,000,000\":\n",
    "        tempstring = str(x).replace(\"500,000 - 1,000,000\",\"750000\")\n",
    "    elif str(x)==\"1,000,000 - 5,000,000\":\n",
    "        tempstring = str(x).replace(\"1,000,000 - 5,000,000\",\"3000000\")\n",
    "    elif str(x)==\"5,000,000 - 10,000,000\":\n",
    "        tempstring = str(x).replace(\"5,000,000 - 10,000,000\",\"7500000\")\n",
    "    elif str(x)==\"10,000,000 - 50,000,000\":\n",
    "        tempstring = str(x).replace(\"10,000,000 - 50,000,000\",\"30000000\")\n",
    "    elif str(x)==\"50,000,000 - 100,000,000\":\n",
    "        tempstring = str(x).replace(\"50,000,000 - 100,000,000\",\"75000000\")\n",
    "    elif str(x)==\"100,000,000 - 500,000,000\":\n",
    "        tempstring = str(x).replace(\"100,000,000 - 500,000,000\",\"300000000\")\n",
    "    else:\n",
    "        tempstring = str(x).replace(\"\",\"0\")\n",
    "    return int(tempstring)"
   ]
  },
  {
   "cell_type": "code",
   "execution_count": 46,
   "metadata": {
    "collapsed": false
   },
   "outputs": [],
   "source": [
    "dfcombined = dfcombined[dfcombined.downloads != 0]\n",
    "dfcombined[\"downloads1\"] = dfcombined[\"downloads\"].apply(lambda x: modifydownloads(str(x)))"
   ]
  },
  {
   "cell_type": "code",
   "execution_count": 48,
   "metadata": {
    "collapsed": false
   },
   "outputs": [
    {
     "data": {
      "text/plain": [
       "481153"
      ]
     },
     "execution_count": 48,
     "metadata": {},
     "output_type": "execute_result"
    },
    {
     "data": {
      "text/html": [
       "<div>\n",
       "<table border=\"1\" class=\"dataframe\">\n",
       "  <thead>\n",
       "    <tr style=\"text-align: right;\">\n",
       "      <th></th>\n",
       "      <th>all_rating</th>\n",
       "      <th>all_rating_count</th>\n",
       "      <th>app_name</th>\n",
       "      <th>bundle_id</th>\n",
       "      <th>content_rating</th>\n",
       "      <th>description</th>\n",
       "      <th>downloads</th>\n",
       "      <th>file_size</th>\n",
       "      <th>genre</th>\n",
       "      <th>icon_url</th>\n",
       "      <th>id</th>\n",
       "      <th>price</th>\n",
       "      <th>version</th>\n",
       "      <th>whats_new</th>\n",
       "      <th>status_unix_timestamp</th>\n",
       "      <th>status_date</th>\n",
       "      <th>price1</th>\n",
       "      <th>downloads1</th>\n",
       "    </tr>\n",
       "  </thead>\n",
       "  <tbody>\n",
       "    <tr>\n",
       "      <th>0</th>\n",
       "      <td>5.0</td>\n",
       "      <td>2</td>\n",
       "      <td>! Insta-Face</td>\n",
       "      <td>bytesinarow.instaface</td>\n",
       "      <td>Low Maturity</td>\n",
       "      <td>Insta-Face is an easy-to-use app which will he...</td>\n",
       "      <td>500 - 1,000</td>\n",
       "      <td>364k</td>\n",
       "      <td>Social</td>\n",
       "      <td>https://lh6.ggpht.com/tLAk2kdsvWf22tEdsFHrN-Kv...</td>\n",
       "      <td>bytesinarow.instaface</td>\n",
       "      <td>Free</td>\n",
       "      <td>1.4</td>\n",
       "      <td>&lt;p&gt;What's in this version:&lt;/p&gt;* Exit menu opti...</td>\n",
       "      <td>1353110400</td>\n",
       "      <td>November 17, 2012</td>\n",
       "      <td>0.0</td>\n",
       "      <td>750</td>\n",
       "    </tr>\n",
       "    <tr>\n",
       "      <th>3</th>\n",
       "      <td>4.6</td>\n",
       "      <td>10</td>\n",
       "      <td>!!!!...ShoWCasE...!!!!</td>\n",
       "      <td>com.reverbnation.artistapp.i21405</td>\n",
       "      <td>Low Maturity</td>\n",
       "      <td>Get the official mobile app of !!!!...ShoWCasE...</td>\n",
       "      <td>1,000 - 5,000</td>\n",
       "      <td>4.2M</td>\n",
       "      <td>Music &amp; Audio</td>\n",
       "      <td>https://lh4.ggpht.com/UpMPDqkVmSdoJRUiRaEOQgaK...</td>\n",
       "      <td>com.reverbnation.artistapp.i21405</td>\n",
       "      <td>Free</td>\n",
       "      <td>1.1.4.2</td>\n",
       "      <td>&lt;div class=\"doc-permissions\"&gt;No recent changes...</td>\n",
       "      <td>1329091200</td>\n",
       "      <td>February 13, 2012</td>\n",
       "      <td>0.0</td>\n",
       "      <td>3000</td>\n",
       "    </tr>\n",
       "  </tbody>\n",
       "</table>\n",
       "</div>"
      ],
      "text/plain": [
       "   all_rating  all_rating_count                app_name  \\\n",
       "0         5.0                 2            ! Insta-Face   \n",
       "3         4.6                10  !!!!...ShoWCasE...!!!!   \n",
       "\n",
       "                           bundle_id content_rating  \\\n",
       "0              bytesinarow.instaface   Low Maturity   \n",
       "3  com.reverbnation.artistapp.i21405   Low Maturity   \n",
       "\n",
       "                                         description      downloads file_size  \\\n",
       "0  Insta-Face is an easy-to-use app which will he...    500 - 1,000      364k   \n",
       "3  Get the official mobile app of !!!!...ShoWCasE...  1,000 - 5,000      4.2M   \n",
       "\n",
       "           genre                                           icon_url  \\\n",
       "0         Social  https://lh6.ggpht.com/tLAk2kdsvWf22tEdsFHrN-Kv...   \n",
       "3  Music & Audio  https://lh4.ggpht.com/UpMPDqkVmSdoJRUiRaEOQgaK...   \n",
       "\n",
       "                                  id price  version  \\\n",
       "0              bytesinarow.instaface  Free      1.4   \n",
       "3  com.reverbnation.artistapp.i21405  Free  1.1.4.2   \n",
       "\n",
       "                                           whats_new  status_unix_timestamp  \\\n",
       "0  <p>What's in this version:</p>* Exit menu opti...             1353110400   \n",
       "3  <div class=\"doc-permissions\">No recent changes...             1329091200   \n",
       "\n",
       "         status_date  price1  downloads1  \n",
       "0  November 17, 2012     0.0         750  \n",
       "3  February 13, 2012     0.0        3000  "
      ]
     },
     "execution_count": 48,
     "metadata": {},
     "output_type": "execute_result"
    }
   ],
   "source": [
    "len(dfcombined)\n",
    "dfcombined.head(2)"
   ]
  },
  {
   "cell_type": "code",
   "execution_count": 49,
   "metadata": {
    "collapsed": true
   },
   "outputs": [],
   "source": [
    "# Change the sile_size column\n",
    "\n",
    "def changeFileSize(x):\n",
    "    tempstring = str(x)\n",
    "    tempstring = tempstring.replace(\",\",\"\")\n",
    "    if str(x).endswith(\"k\"):\n",
    "        tempstring = tempstring.rstrip(\"k\") \n",
    "        tempfloat = float(tempstring)\n",
    "        return float(tempfloat/1000)\n",
    "    if str(x).endswith(\"M\"):\n",
    "        tempstring = tempstring.rstrip(\"M\")\n",
    "        return float(tempstring)\n",
    "    else:\n",
    "        return int(0.0)"
   ]
  },
  {
   "cell_type": "code",
   "execution_count": 50,
   "metadata": {
    "collapsed": true
   },
   "outputs": [],
   "source": [
    "dfcombined[\"file_size1\"] = dfcombined[\"file_size\"].apply(lambda x: changeFileSize(str(x)))"
   ]
  },
  {
   "cell_type": "code",
   "execution_count": 51,
   "metadata": {
    "collapsed": false
   },
   "outputs": [
    {
     "data": {
      "text/plain": [
       "481153"
      ]
     },
     "execution_count": 51,
     "metadata": {},
     "output_type": "execute_result"
    },
    {
     "data": {
      "text/html": [
       "<div>\n",
       "<table border=\"1\" class=\"dataframe\">\n",
       "  <thead>\n",
       "    <tr style=\"text-align: right;\">\n",
       "      <th></th>\n",
       "      <th>all_rating</th>\n",
       "      <th>all_rating_count</th>\n",
       "      <th>app_name</th>\n",
       "      <th>bundle_id</th>\n",
       "      <th>content_rating</th>\n",
       "      <th>description</th>\n",
       "      <th>downloads</th>\n",
       "      <th>file_size</th>\n",
       "      <th>genre</th>\n",
       "      <th>icon_url</th>\n",
       "      <th>id</th>\n",
       "      <th>price</th>\n",
       "      <th>version</th>\n",
       "      <th>whats_new</th>\n",
       "      <th>status_unix_timestamp</th>\n",
       "      <th>status_date</th>\n",
       "      <th>price1</th>\n",
       "      <th>downloads1</th>\n",
       "      <th>file_size1</th>\n",
       "    </tr>\n",
       "  </thead>\n",
       "  <tbody>\n",
       "    <tr>\n",
       "      <th>0</th>\n",
       "      <td>5.0</td>\n",
       "      <td>2</td>\n",
       "      <td>! Insta-Face</td>\n",
       "      <td>bytesinarow.instaface</td>\n",
       "      <td>Low Maturity</td>\n",
       "      <td>Insta-Face is an easy-to-use app which will he...</td>\n",
       "      <td>500 - 1,000</td>\n",
       "      <td>364k</td>\n",
       "      <td>Social</td>\n",
       "      <td>https://lh6.ggpht.com/tLAk2kdsvWf22tEdsFHrN-Kv...</td>\n",
       "      <td>bytesinarow.instaface</td>\n",
       "      <td>Free</td>\n",
       "      <td>1.4</td>\n",
       "      <td>&lt;p&gt;What's in this version:&lt;/p&gt;* Exit menu opti...</td>\n",
       "      <td>1353110400</td>\n",
       "      <td>November 17, 2012</td>\n",
       "      <td>0.0</td>\n",
       "      <td>750</td>\n",
       "      <td>0.364</td>\n",
       "    </tr>\n",
       "    <tr>\n",
       "      <th>3</th>\n",
       "      <td>4.6</td>\n",
       "      <td>10</td>\n",
       "      <td>!!!!...ShoWCasE...!!!!</td>\n",
       "      <td>com.reverbnation.artistapp.i21405</td>\n",
       "      <td>Low Maturity</td>\n",
       "      <td>Get the official mobile app of !!!!...ShoWCasE...</td>\n",
       "      <td>1,000 - 5,000</td>\n",
       "      <td>4.2M</td>\n",
       "      <td>Music &amp; Audio</td>\n",
       "      <td>https://lh4.ggpht.com/UpMPDqkVmSdoJRUiRaEOQgaK...</td>\n",
       "      <td>com.reverbnation.artistapp.i21405</td>\n",
       "      <td>Free</td>\n",
       "      <td>1.1.4.2</td>\n",
       "      <td>&lt;div class=\"doc-permissions\"&gt;No recent changes...</td>\n",
       "      <td>1329091200</td>\n",
       "      <td>February 13, 2012</td>\n",
       "      <td>0.0</td>\n",
       "      <td>3000</td>\n",
       "      <td>4.200</td>\n",
       "    </tr>\n",
       "  </tbody>\n",
       "</table>\n",
       "</div>"
      ],
      "text/plain": [
       "   all_rating  all_rating_count                app_name  \\\n",
       "0         5.0                 2            ! Insta-Face   \n",
       "3         4.6                10  !!!!...ShoWCasE...!!!!   \n",
       "\n",
       "                           bundle_id content_rating  \\\n",
       "0              bytesinarow.instaface   Low Maturity   \n",
       "3  com.reverbnation.artistapp.i21405   Low Maturity   \n",
       "\n",
       "                                         description      downloads file_size  \\\n",
       "0  Insta-Face is an easy-to-use app which will he...    500 - 1,000      364k   \n",
       "3  Get the official mobile app of !!!!...ShoWCasE...  1,000 - 5,000      4.2M   \n",
       "\n",
       "           genre                                           icon_url  \\\n",
       "0         Social  https://lh6.ggpht.com/tLAk2kdsvWf22tEdsFHrN-Kv...   \n",
       "3  Music & Audio  https://lh4.ggpht.com/UpMPDqkVmSdoJRUiRaEOQgaK...   \n",
       "\n",
       "                                  id price  version  \\\n",
       "0              bytesinarow.instaface  Free      1.4   \n",
       "3  com.reverbnation.artistapp.i21405  Free  1.1.4.2   \n",
       "\n",
       "                                           whats_new  status_unix_timestamp  \\\n",
       "0  <p>What's in this version:</p>* Exit menu opti...             1353110400   \n",
       "3  <div class=\"doc-permissions\">No recent changes...             1329091200   \n",
       "\n",
       "         status_date  price1  downloads1  file_size1  \n",
       "0  November 17, 2012     0.0         750       0.364  \n",
       "3  February 13, 2012     0.0        3000       4.200  "
      ]
     },
     "execution_count": 51,
     "metadata": {},
     "output_type": "execute_result"
    }
   ],
   "source": [
    "len(dfcombined)\n",
    "dfcombined.head(2)"
   ]
  },
  {
   "cell_type": "code",
   "execution_count": 52,
   "metadata": {
    "collapsed": true
   },
   "outputs": [],
   "source": [
    "# Remove the old columns.\n",
    "dfcombined.drop('price', axis=1, inplace=True)\n",
    "\n",
    "dfcombined.drop('downloads', axis=1, inplace=True)\n",
    "\n",
    "dfcombined.drop('file_size', axis=1, inplace=True)"
   ]
  },
  {
   "cell_type": "code",
   "execution_count": 53,
   "metadata": {
    "collapsed": false
   },
   "outputs": [
    {
     "data": {
      "text/html": [
       "<div>\n",
       "<table border=\"1\" class=\"dataframe\">\n",
       "  <thead>\n",
       "    <tr style=\"text-align: right;\">\n",
       "      <th></th>\n",
       "      <th>all_rating</th>\n",
       "      <th>all_rating_count</th>\n",
       "      <th>app_name</th>\n",
       "      <th>bundle_id</th>\n",
       "      <th>content_rating</th>\n",
       "      <th>description</th>\n",
       "      <th>genre</th>\n",
       "      <th>icon_url</th>\n",
       "      <th>id</th>\n",
       "      <th>version</th>\n",
       "      <th>whats_new</th>\n",
       "      <th>status_unix_timestamp</th>\n",
       "      <th>status_date</th>\n",
       "      <th>price1</th>\n",
       "      <th>downloads1</th>\n",
       "      <th>file_size1</th>\n",
       "    </tr>\n",
       "  </thead>\n",
       "  <tbody>\n",
       "    <tr>\n",
       "      <th>0</th>\n",
       "      <td>5.0</td>\n",
       "      <td>2</td>\n",
       "      <td>! Insta-Face</td>\n",
       "      <td>bytesinarow.instaface</td>\n",
       "      <td>Low Maturity</td>\n",
       "      <td>Insta-Face is an easy-to-use app which will he...</td>\n",
       "      <td>Social</td>\n",
       "      <td>https://lh6.ggpht.com/tLAk2kdsvWf22tEdsFHrN-Kv...</td>\n",
       "      <td>bytesinarow.instaface</td>\n",
       "      <td>1.4</td>\n",
       "      <td>&lt;p&gt;What's in this version:&lt;/p&gt;* Exit menu opti...</td>\n",
       "      <td>1353110400</td>\n",
       "      <td>November 17, 2012</td>\n",
       "      <td>0.0</td>\n",
       "      <td>750</td>\n",
       "      <td>0.364</td>\n",
       "    </tr>\n",
       "    <tr>\n",
       "      <th>3</th>\n",
       "      <td>4.6</td>\n",
       "      <td>10</td>\n",
       "      <td>!!!!...ShoWCasE...!!!!</td>\n",
       "      <td>com.reverbnation.artistapp.i21405</td>\n",
       "      <td>Low Maturity</td>\n",
       "      <td>Get the official mobile app of !!!!...ShoWCasE...</td>\n",
       "      <td>Music &amp; Audio</td>\n",
       "      <td>https://lh4.ggpht.com/UpMPDqkVmSdoJRUiRaEOQgaK...</td>\n",
       "      <td>com.reverbnation.artistapp.i21405</td>\n",
       "      <td>1.1.4.2</td>\n",
       "      <td>&lt;div class=\"doc-permissions\"&gt;No recent changes...</td>\n",
       "      <td>1329091200</td>\n",
       "      <td>February 13, 2012</td>\n",
       "      <td>0.0</td>\n",
       "      <td>3000</td>\n",
       "      <td>4.200</td>\n",
       "    </tr>\n",
       "  </tbody>\n",
       "</table>\n",
       "</div>"
      ],
      "text/plain": [
       "   all_rating  all_rating_count                app_name  \\\n",
       "0         5.0                 2            ! Insta-Face   \n",
       "3         4.6                10  !!!!...ShoWCasE...!!!!   \n",
       "\n",
       "                           bundle_id content_rating  \\\n",
       "0              bytesinarow.instaface   Low Maturity   \n",
       "3  com.reverbnation.artistapp.i21405   Low Maturity   \n",
       "\n",
       "                                         description          genre  \\\n",
       "0  Insta-Face is an easy-to-use app which will he...         Social   \n",
       "3  Get the official mobile app of !!!!...ShoWCasE...  Music & Audio   \n",
       "\n",
       "                                            icon_url  \\\n",
       "0  https://lh6.ggpht.com/tLAk2kdsvWf22tEdsFHrN-Kv...   \n",
       "3  https://lh4.ggpht.com/UpMPDqkVmSdoJRUiRaEOQgaK...   \n",
       "\n",
       "                                  id  version  \\\n",
       "0              bytesinarow.instaface      1.4   \n",
       "3  com.reverbnation.artistapp.i21405  1.1.4.2   \n",
       "\n",
       "                                           whats_new  status_unix_timestamp  \\\n",
       "0  <p>What's in this version:</p>* Exit menu opti...             1353110400   \n",
       "3  <div class=\"doc-permissions\">No recent changes...             1329091200   \n",
       "\n",
       "         status_date  price1  downloads1  file_size1  \n",
       "0  November 17, 2012     0.0         750       0.364  \n",
       "3  February 13, 2012     0.0        3000       4.200  "
      ]
     },
     "execution_count": 53,
     "metadata": {},
     "output_type": "execute_result"
    }
   ],
   "source": [
    "dfcombined.head(2)"
   ]
  },
  {
   "cell_type": "code",
   "execution_count": 54,
   "metadata": {
    "collapsed": true
   },
   "outputs": [],
   "source": [
    "#Rename the columns properly\n",
    "dfcombined.rename(columns={\"downloads1\": \"downloads\", \"file_size1\": \"file_size\", \"price1\":\"price\"},inplace=True)"
   ]
  },
  {
   "cell_type": "code",
   "execution_count": 58,
   "metadata": {
    "collapsed": true
   },
   "outputs": [],
   "source": [
    "# Combine the genre's into logical group of reduced number of genre's\n",
    "dfcombined[\"mod_genre\"]= dfcombined[\"genre\"]\n",
    "dfcombined[\"mod_genre\"].replace('Social','Social Networking',inplace=True)\n",
    "dfcombined[\"mod_genre\"].replace('Brain & Puzzle','Games',inplace=True)\n",
    "dfcombined[\"mod_genre\"].replace('Media & Video','Photo & Video',inplace=True)\n",
    "dfcombined[\"mod_genre\"].replace('Personalization','Entertainment',inplace=True)\n",
    "dfcombined[\"mod_genre\"].replace('Photography','Photo & Video',inplace=True)\n",
    "dfcombined[\"mod_genre\"].replace('Arcade & Action','Games',inplace=True)\n",
    "dfcombined[\"mod_genre\"].replace('Communication','Social Networking',inplace=True)\n",
    "dfcombined[\"mod_genre\"].replace('Tools','Utilities',inplace=True)\n",
    "dfcombined[\"mod_genre\"].replace('Comics','Entertainment',inplace=True)\n",
    "dfcombined[\"mod_genre\"].replace('News & Magazines','News',inplace=True)\n",
    "dfcombined[\"mod_genre\"].replace('Travel & Local','Travel',inplace=True)\n",
    "dfcombined[\"mod_genre\"].replace('Music & Audio','Music',inplace=True)\n",
    "dfcombined[\"mod_genre\"].replace('Racing','Games',inplace=True)\n",
    "dfcombined[\"mod_genre\"].replace('Casual','Games',inplace=True)\n",
    "dfcombined[\"mod_genre\"].replace('Transportation','Navigation',inplace=True)\n",
    "dfcombined[\"mod_genre\"].replace('Libraries & Demo','Entertainment',inplace=True)\n",
    "dfcombined[\"mod_genre\"].replace('Cards & Casino','Games',inplace=True)\n",
    "dfcombined[\"mod_genre\"].replace('Sports Games','Games',inplace=True)"
   ]
  },
  {
   "cell_type": "code",
   "execution_count": 63,
   "metadata": {
    "collapsed": false
   },
   "outputs": [
    {
     "data": {
      "text/plain": [
       "30"
      ]
     },
     "execution_count": 63,
     "metadata": {},
     "output_type": "execute_result"
    },
    {
     "data": {
      "text/plain": [
       "20"
      ]
     },
     "execution_count": 63,
     "metadata": {},
     "output_type": "execute_result"
    },
    {
     "data": {
      "text/plain": [
       "481153"
      ]
     },
     "execution_count": 63,
     "metadata": {},
     "output_type": "execute_result"
    }
   ],
   "source": [
    "len(dfcombined.genre.unique())\n",
    "len(dfcombined.mod_genre.unique())\n",
    "len(dfcombined)"
   ]
  },
  {
   "cell_type": "code",
   "execution_count": 93,
   "metadata": {
    "collapsed": true
   },
   "outputs": [],
   "source": [
    "# Remove the special characters from app_name column\n",
    "dfcombined[\"app_name\"].replace(to_replace = '[\\!\\.\\+<>,@#$%^&\\*()\\-=\\+\\~]+',value = '', regex = True, inplace=True)\n",
    "\n",
    "# Remove Non Ascii codes from the app_name column\n",
    "dfcombined[\"app_name\"].replace(to_replace = '[^\\x00-\\x7F]+',value = '', regex = True, inplace=True)"
   ]
  },
  {
   "cell_type": "code",
   "execution_count": 94,
   "metadata": {
    "collapsed": false
   },
   "outputs": [
    {
     "data": {
      "text/html": [
       "<div>\n",
       "<table border=\"1\" class=\"dataframe\">\n",
       "  <thead>\n",
       "    <tr style=\"text-align: right;\">\n",
       "      <th></th>\n",
       "      <th>all_rating</th>\n",
       "      <th>all_rating_count</th>\n",
       "      <th>app_name</th>\n",
       "      <th>bundle_id</th>\n",
       "      <th>content_rating</th>\n",
       "      <th>description</th>\n",
       "      <th>genre</th>\n",
       "      <th>icon_url</th>\n",
       "      <th>id</th>\n",
       "      <th>version</th>\n",
       "      <th>whats_new</th>\n",
       "      <th>status_unix_timestamp</th>\n",
       "      <th>status_date</th>\n",
       "      <th>price</th>\n",
       "      <th>downloads</th>\n",
       "      <th>file_size</th>\n",
       "      <th>mod_genre</th>\n",
       "    </tr>\n",
       "  </thead>\n",
       "  <tbody>\n",
       "    <tr>\n",
       "      <th>0</th>\n",
       "      <td>5.0</td>\n",
       "      <td>2</td>\n",
       "      <td>InstaFace</td>\n",
       "      <td>bytesinarow.instaface</td>\n",
       "      <td>Low Maturity</td>\n",
       "      <td>Insta-Face is an easy-to-use app which will he...</td>\n",
       "      <td>Social</td>\n",
       "      <td>https://lh6.ggpht.com/tLAk2kdsvWf22tEdsFHrN-Kv...</td>\n",
       "      <td>bytesinarow.instaface</td>\n",
       "      <td>1.4</td>\n",
       "      <td>&lt;p&gt;What's in this version:&lt;/p&gt;* Exit menu opti...</td>\n",
       "      <td>1353110400</td>\n",
       "      <td>November 17, 2012</td>\n",
       "      <td>0.0</td>\n",
       "      <td>750</td>\n",
       "      <td>0.364</td>\n",
       "      <td>Social Networking</td>\n",
       "    </tr>\n",
       "    <tr>\n",
       "      <th>3</th>\n",
       "      <td>4.6</td>\n",
       "      <td>10</td>\n",
       "      <td>ShoWCasE</td>\n",
       "      <td>com.reverbnation.artistapp.i21405</td>\n",
       "      <td>Low Maturity</td>\n",
       "      <td>Get the official mobile app of !!!!...ShoWCasE...</td>\n",
       "      <td>Music &amp; Audio</td>\n",
       "      <td>https://lh4.ggpht.com/UpMPDqkVmSdoJRUiRaEOQgaK...</td>\n",
       "      <td>com.reverbnation.artistapp.i21405</td>\n",
       "      <td>1.1.4.2</td>\n",
       "      <td>&lt;div class=\"doc-permissions\"&gt;No recent changes...</td>\n",
       "      <td>1329091200</td>\n",
       "      <td>February 13, 2012</td>\n",
       "      <td>0.0</td>\n",
       "      <td>3000</td>\n",
       "      <td>4.200</td>\n",
       "      <td>Music</td>\n",
       "    </tr>\n",
       "  </tbody>\n",
       "</table>\n",
       "</div>"
      ],
      "text/plain": [
       "   all_rating  all_rating_count    app_name  \\\n",
       "0         5.0                 2   InstaFace   \n",
       "3         4.6                10    ShoWCasE   \n",
       "\n",
       "                           bundle_id content_rating  \\\n",
       "0              bytesinarow.instaface   Low Maturity   \n",
       "3  com.reverbnation.artistapp.i21405   Low Maturity   \n",
       "\n",
       "                                         description          genre  \\\n",
       "0  Insta-Face is an easy-to-use app which will he...         Social   \n",
       "3  Get the official mobile app of !!!!...ShoWCasE...  Music & Audio   \n",
       "\n",
       "                                            icon_url  \\\n",
       "0  https://lh6.ggpht.com/tLAk2kdsvWf22tEdsFHrN-Kv...   \n",
       "3  https://lh4.ggpht.com/UpMPDqkVmSdoJRUiRaEOQgaK...   \n",
       "\n",
       "                                  id  version  \\\n",
       "0              bytesinarow.instaface      1.4   \n",
       "3  com.reverbnation.artistapp.i21405  1.1.4.2   \n",
       "\n",
       "                                           whats_new  status_unix_timestamp  \\\n",
       "0  <p>What's in this version:</p>* Exit menu opti...             1353110400   \n",
       "3  <div class=\"doc-permissions\">No recent changes...             1329091200   \n",
       "\n",
       "         status_date  price  downloads  file_size          mod_genre  \n",
       "0  November 17, 2012    0.0        750      0.364  Social Networking  \n",
       "3  February 13, 2012    0.0       3000      4.200              Music  "
      ]
     },
     "execution_count": 94,
     "metadata": {},
     "output_type": "execute_result"
    }
   ],
   "source": [
    "dfcombined.head(2)"
   ]
  },
  {
   "cell_type": "code",
   "execution_count": 97,
   "metadata": {
    "collapsed": true
   },
   "outputs": [],
   "source": [
    "# Save the dataframe as a csv file\n",
    "dfcombined.to_csv(\"cleaned-android-file.csv\", header=True, index=False, encoding=\"utf-8\")"
   ]
  },
  {
   "cell_type": "code",
   "execution_count": null,
   "metadata": {
    "collapsed": true
   },
   "outputs": [],
   "source": []
  }
 ],
 "metadata": {
  "kernelspec": {
   "display_name": "Python 2",
   "language": "python",
   "name": "python2"
  },
  "language_info": {
   "codemirror_mode": {
    "name": "ipython",
    "version": 2
   },
   "file_extension": ".py",
   "mimetype": "text/x-python",
   "name": "python",
   "nbconvert_exporter": "python",
   "pygments_lexer": "ipython2",
   "version": "2.7.11"
  }
 },
 "nbformat": 4,
 "nbformat_minor": 0
}
